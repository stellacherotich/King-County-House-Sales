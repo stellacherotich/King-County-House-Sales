{
 "cells": [
  {
   "attachments": {},
   "cell_type": "markdown",
   "metadata": {},
   "source": [
    "## Final Project Submission\n",
    "### Group 3.1\n",
    "* Evah Wangari\n",
    "* Dorine Langat\n",
    "* Grace Nyongesa\n",
    "* Maureen Anduuru\n",
    "* Stella Kitur\n",
    "* Vivian Adhiambo"
   ]
  },
  {
   "attachments": {},
   "cell_type": "markdown",
   "metadata": {},
   "source": [
    "## Business Overview\n",
    "---"
   ]
  },
  {
   "attachments": {},
   "cell_type": "markdown",
   "metadata": {},
   "source": [
    "\n",
    "![Real_Estate](https://i.pinimg.com/564x/d1/0b/cb/d10bcb894bcc096e432dd6d660d1a616.jpg)\n",
    "\n",
    "\n"
   ]
  },
  {
   "attachments": {},
   "cell_type": "markdown",
   "metadata": {},
   "source": [
    "### Introduction\n",
    "\n",
    "Real estate is one of the most important sectors of any economy. Understanding the key drivers of housing prices can provide valuable insights for both buyers and sellers in the market. In this project, we analyze a data set of house sales in a northwestern county to identify the factors that influence housing prices in the area."
   ]
  },
  {
   "attachments": {},
   "cell_type": "markdown",
   "metadata": {},
   "source": [
    "## Business Understanding\n",
    "The real estate agency helps homeowners buy and/or sell homes. One of the key services they provide is advice to homeowners about how home renovations can increase the estimated value of their homes. The agency is interested in developing a model that can predict the estimated value of a home after renovations, based on the type and cost of the renovations.\n",
    "\n",
    "<b>Metric of Success</b>\n",
    "\n",
    "We decided to opt for RMSE as our metric of success because it is measured in the same units as the response variable."
   ]
  },
  {
   "attachments": {},
   "cell_type": "markdown",
   "metadata": {},
   "source": [
    "### Business Problem\n",
    "The real estate agency needs to provide accurate advice to homeowners about how home renovations can increase the estimated value of their homes, and by what amount. However, the agency currently lacks a reliable method for predicting the impact of specific home renovations on home value. As a result, the agency is unable to provide accurate advice to homeowners about the potential return on investment for different renovation projects.\n",
    "\n",
    "The project objectives we aim to solve include:\n",
    "\n",
    "1. To identify features influencing the pricing.\n",
    "\n",
    "2. To analyse trends in house prices over time (time series analysis) and predict future prices.\n",
    "\n",
    "3. To identify undervalued properties (outlier detection) and recommend better pricing strategies."
   ]
  },
  {
   "attachments": {},
   "cell_type": "markdown",
   "metadata": {},
   "source": [
    "---\n",
    "## Data Understanding\n",
    "\n",
    "The relevant dataset used in this project is the [kc_house_data](https://github.com/dorinelangat/dsc-phase-2-project-v2-3/tree/main/data), found in the data folder of this repository.\n",
    "\n",
    "The dataset contains information on sale prices for houses, property sizes, location, and the years of construction and renovation alongside other relavant information.\n"
   ]
  },
  {
   "cell_type": "code",
   "execution_count": 1,
   "metadata": {},
   "outputs": [],
   "source": [
    "# Loading the libraries\n",
    "\n",
    "# data\n",
    "import numpy as np\n",
    "import pandas as pd\n",
    "\n",
    "# visualization\n",
    "import matplotlib.pyplot as plt\n",
    "import seaborn as sns\n",
    "import missingno as msno\n",
    "import folium\n",
    "import warnings\n",
    "\n",
    "# modeling\n",
    "import statsmodels.api as sm \n",
    "from sklearn.linear_model import LinearRegression\n",
    "from sklearn.model_selection import train_test_split\n",
    "\n",
    "# statistics\n",
    "import scipy.stats as stats\n",
    "from sklearn.metrics import mean_absolute_error\n",
    "\n",
    "# styling\n",
    "plt.style.use('seaborn')\n",
    "sns.set_style('whitegrid')\n",
    "\n",
    "warnings.filterwarnings('ignore')"
   ]
  },
  {
   "cell_type": "code",
   "execution_count": 2,
   "metadata": {},
   "outputs": [
    {
     "data": {
      "text/html": [
       "<div>\n",
       "<style scoped>\n",
       "    .dataframe tbody tr th:only-of-type {\n",
       "        vertical-align: middle;\n",
       "    }\n",
       "\n",
       "    .dataframe tbody tr th {\n",
       "        vertical-align: top;\n",
       "    }\n",
       "\n",
       "    .dataframe thead th {\n",
       "        text-align: right;\n",
       "    }\n",
       "</style>\n",
       "<table border=\"1\" class=\"dataframe\">\n",
       "  <thead>\n",
       "    <tr style=\"text-align: right;\">\n",
       "      <th></th>\n",
       "      <th>id</th>\n",
       "      <th>date</th>\n",
       "      <th>price</th>\n",
       "      <th>bedrooms</th>\n",
       "      <th>bathrooms</th>\n",
       "      <th>sqft_living</th>\n",
       "      <th>sqft_lot</th>\n",
       "      <th>floors</th>\n",
       "      <th>waterfront</th>\n",
       "      <th>view</th>\n",
       "      <th>...</th>\n",
       "      <th>grade</th>\n",
       "      <th>sqft_above</th>\n",
       "      <th>sqft_basement</th>\n",
       "      <th>yr_built</th>\n",
       "      <th>yr_renovated</th>\n",
       "      <th>zipcode</th>\n",
       "      <th>lat</th>\n",
       "      <th>long</th>\n",
       "      <th>sqft_living15</th>\n",
       "      <th>sqft_lot15</th>\n",
       "    </tr>\n",
       "  </thead>\n",
       "  <tbody>\n",
       "    <tr>\n",
       "      <th>0</th>\n",
       "      <td>7129300520</td>\n",
       "      <td>10/13/2014</td>\n",
       "      <td>221900.0</td>\n",
       "      <td>3</td>\n",
       "      <td>1.00</td>\n",
       "      <td>1180</td>\n",
       "      <td>5650</td>\n",
       "      <td>1.0</td>\n",
       "      <td>NaN</td>\n",
       "      <td>NONE</td>\n",
       "      <td>...</td>\n",
       "      <td>7 Average</td>\n",
       "      <td>1180</td>\n",
       "      <td>0.0</td>\n",
       "      <td>1955</td>\n",
       "      <td>0.0</td>\n",
       "      <td>98178</td>\n",
       "      <td>47.5112</td>\n",
       "      <td>-122.257</td>\n",
       "      <td>1340</td>\n",
       "      <td>5650</td>\n",
       "    </tr>\n",
       "    <tr>\n",
       "      <th>1</th>\n",
       "      <td>6414100192</td>\n",
       "      <td>12/9/2014</td>\n",
       "      <td>538000.0</td>\n",
       "      <td>3</td>\n",
       "      <td>2.25</td>\n",
       "      <td>2570</td>\n",
       "      <td>7242</td>\n",
       "      <td>2.0</td>\n",
       "      <td>NO</td>\n",
       "      <td>NONE</td>\n",
       "      <td>...</td>\n",
       "      <td>7 Average</td>\n",
       "      <td>2170</td>\n",
       "      <td>400.0</td>\n",
       "      <td>1951</td>\n",
       "      <td>1991.0</td>\n",
       "      <td>98125</td>\n",
       "      <td>47.7210</td>\n",
       "      <td>-122.319</td>\n",
       "      <td>1690</td>\n",
       "      <td>7639</td>\n",
       "    </tr>\n",
       "    <tr>\n",
       "      <th>2</th>\n",
       "      <td>5631500400</td>\n",
       "      <td>2/25/2015</td>\n",
       "      <td>180000.0</td>\n",
       "      <td>2</td>\n",
       "      <td>1.00</td>\n",
       "      <td>770</td>\n",
       "      <td>10000</td>\n",
       "      <td>1.0</td>\n",
       "      <td>NO</td>\n",
       "      <td>NONE</td>\n",
       "      <td>...</td>\n",
       "      <td>6 Low Average</td>\n",
       "      <td>770</td>\n",
       "      <td>0.0</td>\n",
       "      <td>1933</td>\n",
       "      <td>NaN</td>\n",
       "      <td>98028</td>\n",
       "      <td>47.7379</td>\n",
       "      <td>-122.233</td>\n",
       "      <td>2720</td>\n",
       "      <td>8062</td>\n",
       "    </tr>\n",
       "    <tr>\n",
       "      <th>3</th>\n",
       "      <td>2487200875</td>\n",
       "      <td>12/9/2014</td>\n",
       "      <td>604000.0</td>\n",
       "      <td>4</td>\n",
       "      <td>3.00</td>\n",
       "      <td>1960</td>\n",
       "      <td>5000</td>\n",
       "      <td>1.0</td>\n",
       "      <td>NO</td>\n",
       "      <td>NONE</td>\n",
       "      <td>...</td>\n",
       "      <td>7 Average</td>\n",
       "      <td>1050</td>\n",
       "      <td>910.0</td>\n",
       "      <td>1965</td>\n",
       "      <td>0.0</td>\n",
       "      <td>98136</td>\n",
       "      <td>47.5208</td>\n",
       "      <td>-122.393</td>\n",
       "      <td>1360</td>\n",
       "      <td>5000</td>\n",
       "    </tr>\n",
       "    <tr>\n",
       "      <th>4</th>\n",
       "      <td>1954400510</td>\n",
       "      <td>2/18/2015</td>\n",
       "      <td>510000.0</td>\n",
       "      <td>3</td>\n",
       "      <td>2.00</td>\n",
       "      <td>1680</td>\n",
       "      <td>8080</td>\n",
       "      <td>1.0</td>\n",
       "      <td>NO</td>\n",
       "      <td>NONE</td>\n",
       "      <td>...</td>\n",
       "      <td>8 Good</td>\n",
       "      <td>1680</td>\n",
       "      <td>0.0</td>\n",
       "      <td>1987</td>\n",
       "      <td>0.0</td>\n",
       "      <td>98074</td>\n",
       "      <td>47.6168</td>\n",
       "      <td>-122.045</td>\n",
       "      <td>1800</td>\n",
       "      <td>7503</td>\n",
       "    </tr>\n",
       "  </tbody>\n",
       "</table>\n",
       "<p>5 rows × 21 columns</p>\n",
       "</div>"
      ],
      "text/plain": [
       "           id        date     price  bedrooms  bathrooms  sqft_living  \\\n",
       "0  7129300520  10/13/2014  221900.0         3       1.00         1180   \n",
       "1  6414100192   12/9/2014  538000.0         3       2.25         2570   \n",
       "2  5631500400   2/25/2015  180000.0         2       1.00          770   \n",
       "3  2487200875   12/9/2014  604000.0         4       3.00         1960   \n",
       "4  1954400510   2/18/2015  510000.0         3       2.00         1680   \n",
       "\n",
       "   sqft_lot  floors waterfront  view  ...          grade sqft_above  \\\n",
       "0      5650     1.0        NaN  NONE  ...      7 Average       1180   \n",
       "1      7242     2.0         NO  NONE  ...      7 Average       2170   \n",
       "2     10000     1.0         NO  NONE  ...  6 Low Average        770   \n",
       "3      5000     1.0         NO  NONE  ...      7 Average       1050   \n",
       "4      8080     1.0         NO  NONE  ...         8 Good       1680   \n",
       "\n",
       "   sqft_basement yr_built  yr_renovated  zipcode      lat     long  \\\n",
       "0            0.0     1955           0.0    98178  47.5112 -122.257   \n",
       "1          400.0     1951        1991.0    98125  47.7210 -122.319   \n",
       "2            0.0     1933           NaN    98028  47.7379 -122.233   \n",
       "3          910.0     1965           0.0    98136  47.5208 -122.393   \n",
       "4            0.0     1987           0.0    98074  47.6168 -122.045   \n",
       "\n",
       "   sqft_living15  sqft_lot15  \n",
       "0           1340        5650  \n",
       "1           1690        7639  \n",
       "2           2720        8062  \n",
       "3           1360        5000  \n",
       "4           1800        7503  \n",
       "\n",
       "[5 rows x 21 columns]"
      ]
     },
     "execution_count": 2,
     "metadata": {},
     "output_type": "execute_result"
    }
   ],
   "source": [
    "house_df = pd.read_csv(\"kc_house_data.csv\")\n",
    "house_df.head()"
   ]
  },
  {
   "cell_type": "code",
   "execution_count": 3,
   "metadata": {},
   "outputs": [
    {
     "name": "stdout",
     "output_type": "stream",
     "text": [
      "<class 'pandas.core.frame.DataFrame'>\n",
      "RangeIndex: 21597 entries, 0 to 21596\n",
      "Data columns (total 21 columns):\n",
      " #   Column         Non-Null Count  Dtype  \n",
      "---  ------         --------------  -----  \n",
      " 0   id             21597 non-null  int64  \n",
      " 1   date           21597 non-null  object \n",
      " 2   price          21597 non-null  float64\n",
      " 3   bedrooms       21597 non-null  int64  \n",
      " 4   bathrooms      21597 non-null  float64\n",
      " 5   sqft_living    21597 non-null  int64  \n",
      " 6   sqft_lot       21597 non-null  int64  \n",
      " 7   floors         21597 non-null  float64\n",
      " 8   waterfront     19221 non-null  object \n",
      " 9   view           21534 non-null  object \n",
      " 10  condition      21597 non-null  object \n",
      " 11  grade          21597 non-null  object \n",
      " 12  sqft_above     21597 non-null  int64  \n",
      " 13  sqft_basement  21597 non-null  object \n",
      " 14  yr_built       21597 non-null  int64  \n",
      " 15  yr_renovated   17755 non-null  float64\n",
      " 16  zipcode        21597 non-null  int64  \n",
      " 17  lat            21597 non-null  float64\n",
      " 18  long           21597 non-null  float64\n",
      " 19  sqft_living15  21597 non-null  int64  \n",
      " 20  sqft_lot15     21597 non-null  int64  \n",
      "dtypes: float64(6), int64(9), object(6)\n",
      "memory usage: 3.5+ MB\n"
     ]
    }
   ],
   "source": [
    "house_df.info()"
   ]
  },
  {
   "cell_type": "code",
   "execution_count": 4,
   "metadata": {},
   "outputs": [
    {
     "data": {
      "text/html": [
       "<div>\n",
       "<style scoped>\n",
       "    .dataframe tbody tr th:only-of-type {\n",
       "        vertical-align: middle;\n",
       "    }\n",
       "\n",
       "    .dataframe tbody tr th {\n",
       "        vertical-align: top;\n",
       "    }\n",
       "\n",
       "    .dataframe thead th {\n",
       "        text-align: right;\n",
       "    }\n",
       "</style>\n",
       "<table border=\"1\" class=\"dataframe\">\n",
       "  <thead>\n",
       "    <tr style=\"text-align: right;\">\n",
       "      <th></th>\n",
       "      <th>id</th>\n",
       "      <th>price</th>\n",
       "      <th>bedrooms</th>\n",
       "      <th>bathrooms</th>\n",
       "      <th>sqft_living</th>\n",
       "      <th>sqft_lot</th>\n",
       "      <th>floors</th>\n",
       "      <th>sqft_above</th>\n",
       "      <th>yr_built</th>\n",
       "      <th>yr_renovated</th>\n",
       "      <th>zipcode</th>\n",
       "      <th>lat</th>\n",
       "      <th>long</th>\n",
       "      <th>sqft_living15</th>\n",
       "      <th>sqft_lot15</th>\n",
       "    </tr>\n",
       "  </thead>\n",
       "  <tbody>\n",
       "    <tr>\n",
       "      <th>count</th>\n",
       "      <td>2.159700e+04</td>\n",
       "      <td>2.159700e+04</td>\n",
       "      <td>21597.000000</td>\n",
       "      <td>21597.000000</td>\n",
       "      <td>21597.000000</td>\n",
       "      <td>2.159700e+04</td>\n",
       "      <td>21597.000000</td>\n",
       "      <td>21597.000000</td>\n",
       "      <td>21597.000000</td>\n",
       "      <td>17755.000000</td>\n",
       "      <td>21597.000000</td>\n",
       "      <td>21597.000000</td>\n",
       "      <td>21597.000000</td>\n",
       "      <td>21597.000000</td>\n",
       "      <td>21597.000000</td>\n",
       "    </tr>\n",
       "    <tr>\n",
       "      <th>mean</th>\n",
       "      <td>4.580474e+09</td>\n",
       "      <td>5.402966e+05</td>\n",
       "      <td>3.373200</td>\n",
       "      <td>2.115826</td>\n",
       "      <td>2080.321850</td>\n",
       "      <td>1.509941e+04</td>\n",
       "      <td>1.494096</td>\n",
       "      <td>1788.596842</td>\n",
       "      <td>1970.999676</td>\n",
       "      <td>83.636778</td>\n",
       "      <td>98077.951845</td>\n",
       "      <td>47.560093</td>\n",
       "      <td>-122.213982</td>\n",
       "      <td>1986.620318</td>\n",
       "      <td>12758.283512</td>\n",
       "    </tr>\n",
       "    <tr>\n",
       "      <th>std</th>\n",
       "      <td>2.876736e+09</td>\n",
       "      <td>3.673681e+05</td>\n",
       "      <td>0.926299</td>\n",
       "      <td>0.768984</td>\n",
       "      <td>918.106125</td>\n",
       "      <td>4.141264e+04</td>\n",
       "      <td>0.539683</td>\n",
       "      <td>827.759761</td>\n",
       "      <td>29.375234</td>\n",
       "      <td>399.946414</td>\n",
       "      <td>53.513072</td>\n",
       "      <td>0.138552</td>\n",
       "      <td>0.140724</td>\n",
       "      <td>685.230472</td>\n",
       "      <td>27274.441950</td>\n",
       "    </tr>\n",
       "    <tr>\n",
       "      <th>min</th>\n",
       "      <td>1.000102e+06</td>\n",
       "      <td>7.800000e+04</td>\n",
       "      <td>1.000000</td>\n",
       "      <td>0.500000</td>\n",
       "      <td>370.000000</td>\n",
       "      <td>5.200000e+02</td>\n",
       "      <td>1.000000</td>\n",
       "      <td>370.000000</td>\n",
       "      <td>1900.000000</td>\n",
       "      <td>0.000000</td>\n",
       "      <td>98001.000000</td>\n",
       "      <td>47.155900</td>\n",
       "      <td>-122.519000</td>\n",
       "      <td>399.000000</td>\n",
       "      <td>651.000000</td>\n",
       "    </tr>\n",
       "    <tr>\n",
       "      <th>25%</th>\n",
       "      <td>2.123049e+09</td>\n",
       "      <td>3.220000e+05</td>\n",
       "      <td>3.000000</td>\n",
       "      <td>1.750000</td>\n",
       "      <td>1430.000000</td>\n",
       "      <td>5.040000e+03</td>\n",
       "      <td>1.000000</td>\n",
       "      <td>1190.000000</td>\n",
       "      <td>1951.000000</td>\n",
       "      <td>0.000000</td>\n",
       "      <td>98033.000000</td>\n",
       "      <td>47.471100</td>\n",
       "      <td>-122.328000</td>\n",
       "      <td>1490.000000</td>\n",
       "      <td>5100.000000</td>\n",
       "    </tr>\n",
       "    <tr>\n",
       "      <th>50%</th>\n",
       "      <td>3.904930e+09</td>\n",
       "      <td>4.500000e+05</td>\n",
       "      <td>3.000000</td>\n",
       "      <td>2.250000</td>\n",
       "      <td>1910.000000</td>\n",
       "      <td>7.618000e+03</td>\n",
       "      <td>1.500000</td>\n",
       "      <td>1560.000000</td>\n",
       "      <td>1975.000000</td>\n",
       "      <td>0.000000</td>\n",
       "      <td>98065.000000</td>\n",
       "      <td>47.571800</td>\n",
       "      <td>-122.231000</td>\n",
       "      <td>1840.000000</td>\n",
       "      <td>7620.000000</td>\n",
       "    </tr>\n",
       "    <tr>\n",
       "      <th>75%</th>\n",
       "      <td>7.308900e+09</td>\n",
       "      <td>6.450000e+05</td>\n",
       "      <td>4.000000</td>\n",
       "      <td>2.500000</td>\n",
       "      <td>2550.000000</td>\n",
       "      <td>1.068500e+04</td>\n",
       "      <td>2.000000</td>\n",
       "      <td>2210.000000</td>\n",
       "      <td>1997.000000</td>\n",
       "      <td>0.000000</td>\n",
       "      <td>98118.000000</td>\n",
       "      <td>47.678000</td>\n",
       "      <td>-122.125000</td>\n",
       "      <td>2360.000000</td>\n",
       "      <td>10083.000000</td>\n",
       "    </tr>\n",
       "    <tr>\n",
       "      <th>max</th>\n",
       "      <td>9.900000e+09</td>\n",
       "      <td>7.700000e+06</td>\n",
       "      <td>33.000000</td>\n",
       "      <td>8.000000</td>\n",
       "      <td>13540.000000</td>\n",
       "      <td>1.651359e+06</td>\n",
       "      <td>3.500000</td>\n",
       "      <td>9410.000000</td>\n",
       "      <td>2015.000000</td>\n",
       "      <td>2015.000000</td>\n",
       "      <td>98199.000000</td>\n",
       "      <td>47.777600</td>\n",
       "      <td>-121.315000</td>\n",
       "      <td>6210.000000</td>\n",
       "      <td>871200.000000</td>\n",
       "    </tr>\n",
       "  </tbody>\n",
       "</table>\n",
       "</div>"
      ],
      "text/plain": [
       "                 id         price      bedrooms     bathrooms   sqft_living  \\\n",
       "count  2.159700e+04  2.159700e+04  21597.000000  21597.000000  21597.000000   \n",
       "mean   4.580474e+09  5.402966e+05      3.373200      2.115826   2080.321850   \n",
       "std    2.876736e+09  3.673681e+05      0.926299      0.768984    918.106125   \n",
       "min    1.000102e+06  7.800000e+04      1.000000      0.500000    370.000000   \n",
       "25%    2.123049e+09  3.220000e+05      3.000000      1.750000   1430.000000   \n",
       "50%    3.904930e+09  4.500000e+05      3.000000      2.250000   1910.000000   \n",
       "75%    7.308900e+09  6.450000e+05      4.000000      2.500000   2550.000000   \n",
       "max    9.900000e+09  7.700000e+06     33.000000      8.000000  13540.000000   \n",
       "\n",
       "           sqft_lot        floors    sqft_above      yr_built  yr_renovated  \\\n",
       "count  2.159700e+04  21597.000000  21597.000000  21597.000000  17755.000000   \n",
       "mean   1.509941e+04      1.494096   1788.596842   1970.999676     83.636778   \n",
       "std    4.141264e+04      0.539683    827.759761     29.375234    399.946414   \n",
       "min    5.200000e+02      1.000000    370.000000   1900.000000      0.000000   \n",
       "25%    5.040000e+03      1.000000   1190.000000   1951.000000      0.000000   \n",
       "50%    7.618000e+03      1.500000   1560.000000   1975.000000      0.000000   \n",
       "75%    1.068500e+04      2.000000   2210.000000   1997.000000      0.000000   \n",
       "max    1.651359e+06      3.500000   9410.000000   2015.000000   2015.000000   \n",
       "\n",
       "            zipcode           lat          long  sqft_living15     sqft_lot15  \n",
       "count  21597.000000  21597.000000  21597.000000   21597.000000   21597.000000  \n",
       "mean   98077.951845     47.560093   -122.213982    1986.620318   12758.283512  \n",
       "std       53.513072      0.138552      0.140724     685.230472   27274.441950  \n",
       "min    98001.000000     47.155900   -122.519000     399.000000     651.000000  \n",
       "25%    98033.000000     47.471100   -122.328000    1490.000000    5100.000000  \n",
       "50%    98065.000000     47.571800   -122.231000    1840.000000    7620.000000  \n",
       "75%    98118.000000     47.678000   -122.125000    2360.000000   10083.000000  \n",
       "max    98199.000000     47.777600   -121.315000    6210.000000  871200.000000  "
      ]
     },
     "execution_count": 4,
     "metadata": {},
     "output_type": "execute_result"
    }
   ],
   "source": [
    "house_df.describe()"
   ]
  },
  {
   "cell_type": "code",
   "execution_count": 5,
   "metadata": {},
   "outputs": [],
   "source": [
    "data = house_df.copy()"
   ]
  },
  {
   "attachments": {},
   "cell_type": "markdown",
   "metadata": {},
   "source": [
    "This function returns a comprehensive description for our data."
   ]
  },
  {
   "cell_type": "code",
   "execution_count": 6,
   "metadata": {},
   "outputs": [],
   "source": [
    "def explore_data(df):\n",
    "    '''\n",
    "    Print some basic statistics and information about the DataFrame\n",
    "    '''\n",
    "    print(\"Number of rows:\", df.shape[0])\n",
    "    print(\"Number of columns:\", df.shape[1])\n",
    "    print(\"Data types:\\n\", df.dtypes)\n",
    "    print(\"info:\\n\", df.info())\n",
    "    print(\"columns:\", df.columns)\n",
    "    print(\"Head:\\n\", df.head())\n",
    "    print(\"Tail:\\n\", df.tail())\n",
    "    print(\"statistical summary:\\n\", df.describe())\n",
    "    print(\"Missing values:\\n\", df.isnull().sum())\n",
    "    print(\"duplicated values:\\n\", df.duplicated)\n",
    "    #the correlation of other features with the price\n",
    "    print(\"correlation with the price:\\n\", df.corr()['price'])\n",
    "    print(\"condition column:\\n\", df['condition'].value_counts())\n",
    "    print(\"grade column:\\n\", df['grade'].value_counts())\n",
    "    print(\"view column:\\n\", df['view'].value_counts())"
   ]
  },
  {
   "cell_type": "code",
   "execution_count": 7,
   "metadata": {},
   "outputs": [
    {
     "name": "stdout",
     "output_type": "stream",
     "text": [
      "Number of rows: 21597\n",
      "Number of columns: 21\n",
      "Data types:\n",
      " id                 int64\n",
      "date              object\n",
      "price            float64\n",
      "bedrooms           int64\n",
      "bathrooms        float64\n",
      "sqft_living        int64\n",
      "sqft_lot           int64\n",
      "floors           float64\n",
      "waterfront        object\n",
      "view              object\n",
      "condition         object\n",
      "grade             object\n",
      "sqft_above         int64\n",
      "sqft_basement     object\n",
      "yr_built           int64\n",
      "yr_renovated     float64\n",
      "zipcode            int64\n",
      "lat              float64\n",
      "long             float64\n",
      "sqft_living15      int64\n",
      "sqft_lot15         int64\n",
      "dtype: object\n",
      "<class 'pandas.core.frame.DataFrame'>\n",
      "RangeIndex: 21597 entries, 0 to 21596\n",
      "Data columns (total 21 columns):\n",
      " #   Column         Non-Null Count  Dtype  \n",
      "---  ------         --------------  -----  \n",
      " 0   id             21597 non-null  int64  \n",
      " 1   date           21597 non-null  object \n",
      " 2   price          21597 non-null  float64\n",
      " 3   bedrooms       21597 non-null  int64  \n",
      " 4   bathrooms      21597 non-null  float64\n",
      " 5   sqft_living    21597 non-null  int64  \n",
      " 6   sqft_lot       21597 non-null  int64  \n",
      " 7   floors         21597 non-null  float64\n",
      " 8   waterfront     19221 non-null  object \n",
      " 9   view           21534 non-null  object \n",
      " 10  condition      21597 non-null  object \n",
      " 11  grade          21597 non-null  object \n",
      " 12  sqft_above     21597 non-null  int64  \n",
      " 13  sqft_basement  21597 non-null  object \n",
      " 14  yr_built       21597 non-null  int64  \n",
      " 15  yr_renovated   17755 non-null  float64\n",
      " 16  zipcode        21597 non-null  int64  \n",
      " 17  lat            21597 non-null  float64\n",
      " 18  long           21597 non-null  float64\n",
      " 19  sqft_living15  21597 non-null  int64  \n",
      " 20  sqft_lot15     21597 non-null  int64  \n",
      "dtypes: float64(6), int64(9), object(6)\n",
      "memory usage: 3.5+ MB\n",
      "info:\n",
      " None\n",
      "columns: Index(['id', 'date', 'price', 'bedrooms', 'bathrooms', 'sqft_living',\n",
      "       'sqft_lot', 'floors', 'waterfront', 'view', 'condition', 'grade',\n",
      "       'sqft_above', 'sqft_basement', 'yr_built', 'yr_renovated', 'zipcode',\n",
      "       'lat', 'long', 'sqft_living15', 'sqft_lot15'],\n",
      "      dtype='object')\n",
      "Head:\n",
      "            id        date     price  bedrooms  bathrooms  sqft_living  \\\n",
      "0  7129300520  10/13/2014  221900.0         3       1.00         1180   \n",
      "1  6414100192   12/9/2014  538000.0         3       2.25         2570   \n",
      "2  5631500400   2/25/2015  180000.0         2       1.00          770   \n",
      "3  2487200875   12/9/2014  604000.0         4       3.00         1960   \n",
      "4  1954400510   2/18/2015  510000.0         3       2.00         1680   \n",
      "\n",
      "   sqft_lot  floors waterfront  view  ...          grade sqft_above  \\\n",
      "0      5650     1.0        NaN  NONE  ...      7 Average       1180   \n",
      "1      7242     2.0         NO  NONE  ...      7 Average       2170   \n",
      "2     10000     1.0         NO  NONE  ...  6 Low Average        770   \n",
      "3      5000     1.0         NO  NONE  ...      7 Average       1050   \n",
      "4      8080     1.0         NO  NONE  ...         8 Good       1680   \n",
      "\n",
      "   sqft_basement yr_built  yr_renovated  zipcode      lat     long  \\\n",
      "0            0.0     1955           0.0    98178  47.5112 -122.257   \n",
      "1          400.0     1951        1991.0    98125  47.7210 -122.319   \n",
      "2            0.0     1933           NaN    98028  47.7379 -122.233   \n",
      "3          910.0     1965           0.0    98136  47.5208 -122.393   \n",
      "4            0.0     1987           0.0    98074  47.6168 -122.045   \n",
      "\n",
      "   sqft_living15  sqft_lot15  \n",
      "0           1340        5650  \n",
      "1           1690        7639  \n",
      "2           2720        8062  \n",
      "3           1360        5000  \n",
      "4           1800        7503  \n",
      "\n",
      "[5 rows x 21 columns]\n",
      "Tail:\n",
      "                id        date     price  bedrooms  bathrooms  sqft_living  \\\n",
      "21592   263000018   5/21/2014  360000.0         3       2.50         1530   \n",
      "21593  6600060120   2/23/2015  400000.0         4       2.50         2310   \n",
      "21594  1523300141   6/23/2014  402101.0         2       0.75         1020   \n",
      "21595   291310100   1/16/2015  400000.0         3       2.50         1600   \n",
      "21596  1523300157  10/15/2014  325000.0         2       0.75         1020   \n",
      "\n",
      "       sqft_lot  floors waterfront  view  ...      grade sqft_above  \\\n",
      "21592      1131     3.0         NO  NONE  ...     8 Good       1530   \n",
      "21593      5813     2.0         NO  NONE  ...     8 Good       2310   \n",
      "21594      1350     2.0         NO  NONE  ...  7 Average       1020   \n",
      "21595      2388     2.0        NaN  NONE  ...     8 Good       1600   \n",
      "21596      1076     2.0         NO  NONE  ...  7 Average       1020   \n",
      "\n",
      "       sqft_basement yr_built  yr_renovated  zipcode      lat     long  \\\n",
      "21592            0.0     2009           0.0    98103  47.6993 -122.346   \n",
      "21593            0.0     2014           0.0    98146  47.5107 -122.362   \n",
      "21594            0.0     2009           0.0    98144  47.5944 -122.299   \n",
      "21595            0.0     2004           0.0    98027  47.5345 -122.069   \n",
      "21596            0.0     2008           0.0    98144  47.5941 -122.299   \n",
      "\n",
      "       sqft_living15  sqft_lot15  \n",
      "21592           1530        1509  \n",
      "21593           1830        7200  \n",
      "21594           1020        2007  \n",
      "21595           1410        1287  \n",
      "21596           1020        1357  \n",
      "\n",
      "[5 rows x 21 columns]\n",
      "statistical summary:\n",
      "                  id         price      bedrooms     bathrooms   sqft_living  \\\n",
      "count  2.159700e+04  2.159700e+04  21597.000000  21597.000000  21597.000000   \n",
      "mean   4.580474e+09  5.402966e+05      3.373200      2.115826   2080.321850   \n",
      "std    2.876736e+09  3.673681e+05      0.926299      0.768984    918.106125   \n",
      "min    1.000102e+06  7.800000e+04      1.000000      0.500000    370.000000   \n",
      "25%    2.123049e+09  3.220000e+05      3.000000      1.750000   1430.000000   \n",
      "50%    3.904930e+09  4.500000e+05      3.000000      2.250000   1910.000000   \n",
      "75%    7.308900e+09  6.450000e+05      4.000000      2.500000   2550.000000   \n",
      "max    9.900000e+09  7.700000e+06     33.000000      8.000000  13540.000000   \n",
      "\n",
      "           sqft_lot        floors    sqft_above      yr_built  yr_renovated  \\\n",
      "count  2.159700e+04  21597.000000  21597.000000  21597.000000  17755.000000   \n",
      "mean   1.509941e+04      1.494096   1788.596842   1970.999676     83.636778   \n",
      "std    4.141264e+04      0.539683    827.759761     29.375234    399.946414   \n",
      "min    5.200000e+02      1.000000    370.000000   1900.000000      0.000000   \n",
      "25%    5.040000e+03      1.000000   1190.000000   1951.000000      0.000000   \n",
      "50%    7.618000e+03      1.500000   1560.000000   1975.000000      0.000000   \n",
      "75%    1.068500e+04      2.000000   2210.000000   1997.000000      0.000000   \n",
      "max    1.651359e+06      3.500000   9410.000000   2015.000000   2015.000000   \n",
      "\n",
      "            zipcode           lat          long  sqft_living15     sqft_lot15  \n",
      "count  21597.000000  21597.000000  21597.000000   21597.000000   21597.000000  \n",
      "mean   98077.951845     47.560093   -122.213982    1986.620318   12758.283512  \n",
      "std       53.513072      0.138552      0.140724     685.230472   27274.441950  \n",
      "min    98001.000000     47.155900   -122.519000     399.000000     651.000000  \n",
      "25%    98033.000000     47.471100   -122.328000    1490.000000    5100.000000  \n",
      "50%    98065.000000     47.571800   -122.231000    1840.000000    7620.000000  \n",
      "75%    98118.000000     47.678000   -122.125000    2360.000000   10083.000000  \n",
      "max    98199.000000     47.777600   -121.315000    6210.000000  871200.000000  \n",
      "Missing values:\n",
      " id                  0\n",
      "date                0\n",
      "price               0\n",
      "bedrooms            0\n",
      "bathrooms           0\n",
      "sqft_living         0\n",
      "sqft_lot            0\n",
      "floors              0\n",
      "waterfront       2376\n",
      "view               63\n",
      "condition           0\n",
      "grade               0\n",
      "sqft_above          0\n",
      "sqft_basement       0\n",
      "yr_built            0\n",
      "yr_renovated     3842\n",
      "zipcode             0\n",
      "lat                 0\n",
      "long                0\n",
      "sqft_living15       0\n",
      "sqft_lot15          0\n",
      "dtype: int64\n",
      "duplicated values:\n",
      " <bound method DataFrame.duplicated of                id        date     price  bedrooms  bathrooms  sqft_living  \\\n",
      "0      7129300520  10/13/2014  221900.0         3       1.00         1180   \n",
      "1      6414100192   12/9/2014  538000.0         3       2.25         2570   \n",
      "2      5631500400   2/25/2015  180000.0         2       1.00          770   \n",
      "3      2487200875   12/9/2014  604000.0         4       3.00         1960   \n",
      "4      1954400510   2/18/2015  510000.0         3       2.00         1680   \n",
      "...           ...         ...       ...       ...        ...          ...   \n",
      "21592   263000018   5/21/2014  360000.0         3       2.50         1530   \n",
      "21593  6600060120   2/23/2015  400000.0         4       2.50         2310   \n",
      "21594  1523300141   6/23/2014  402101.0         2       0.75         1020   \n",
      "21595   291310100   1/16/2015  400000.0         3       2.50         1600   \n",
      "21596  1523300157  10/15/2014  325000.0         2       0.75         1020   \n",
      "\n",
      "       sqft_lot  floors waterfront  view  ...          grade sqft_above  \\\n",
      "0          5650     1.0        NaN  NONE  ...      7 Average       1180   \n",
      "1          7242     2.0         NO  NONE  ...      7 Average       2170   \n",
      "2         10000     1.0         NO  NONE  ...  6 Low Average        770   \n",
      "3          5000     1.0         NO  NONE  ...      7 Average       1050   \n",
      "4          8080     1.0         NO  NONE  ...         8 Good       1680   \n",
      "...         ...     ...        ...   ...  ...            ...        ...   \n",
      "21592      1131     3.0         NO  NONE  ...         8 Good       1530   \n",
      "21593      5813     2.0         NO  NONE  ...         8 Good       2310   \n",
      "21594      1350     2.0         NO  NONE  ...      7 Average       1020   \n",
      "21595      2388     2.0        NaN  NONE  ...         8 Good       1600   \n",
      "21596      1076     2.0         NO  NONE  ...      7 Average       1020   \n",
      "\n",
      "       sqft_basement yr_built  yr_renovated  zipcode      lat     long  \\\n",
      "0                0.0     1955           0.0    98178  47.5112 -122.257   \n",
      "1              400.0     1951        1991.0    98125  47.7210 -122.319   \n",
      "2                0.0     1933           NaN    98028  47.7379 -122.233   \n",
      "3              910.0     1965           0.0    98136  47.5208 -122.393   \n",
      "4                0.0     1987           0.0    98074  47.6168 -122.045   \n",
      "...              ...      ...           ...      ...      ...      ...   \n",
      "21592            0.0     2009           0.0    98103  47.6993 -122.346   \n",
      "21593            0.0     2014           0.0    98146  47.5107 -122.362   \n",
      "21594            0.0     2009           0.0    98144  47.5944 -122.299   \n",
      "21595            0.0     2004           0.0    98027  47.5345 -122.069   \n",
      "21596            0.0     2008           0.0    98144  47.5941 -122.299   \n",
      "\n",
      "       sqft_living15  sqft_lot15  \n",
      "0               1340        5650  \n",
      "1               1690        7639  \n",
      "2               2720        8062  \n",
      "3               1360        5000  \n",
      "4               1800        7503  \n",
      "...              ...         ...  \n",
      "21592           1530        1509  \n",
      "21593           1830        7200  \n",
      "21594           1020        2007  \n",
      "21595           1410        1287  \n",
      "21596           1020        1357  \n",
      "\n",
      "[21597 rows x 21 columns]>\n",
      "correlation with the price:\n",
      " id              -0.016772\n",
      "price            1.000000\n",
      "bedrooms         0.308787\n",
      "bathrooms        0.525906\n",
      "sqft_living      0.701917\n",
      "sqft_lot         0.089876\n",
      "floors           0.256804\n",
      "sqft_above       0.605368\n",
      "yr_built         0.053953\n",
      "yr_renovated     0.129599\n",
      "zipcode         -0.053402\n",
      "lat              0.306692\n",
      "long             0.022036\n",
      "sqft_living15    0.585241\n",
      "sqft_lot15       0.082845\n",
      "Name: price, dtype: float64\n",
      "condition column:\n",
      " Average      14020\n",
      "Good          5677\n",
      "Very Good     1701\n",
      "Fair           170\n",
      "Poor            29\n",
      "Name: condition, dtype: int64\n",
      "grade column:\n",
      " 7 Average        8974\n",
      "8 Good           6065\n",
      "9 Better         2615\n",
      "6 Low Average    2038\n",
      "10 Very Good     1134\n",
      "11 Excellent      399\n",
      "5 Fair            242\n",
      "12 Luxury          89\n",
      "4 Low              27\n",
      "13 Mansion         13\n",
      "3 Poor              1\n",
      "Name: grade, dtype: int64\n",
      "view column:\n",
      " NONE         19422\n",
      "AVERAGE        957\n",
      "GOOD           508\n",
      "FAIR           330\n",
      "EXCELLENT      317\n",
      "Name: view, dtype: int64\n"
     ]
    }
   ],
   "source": [
    "explore_data(data)"
   ]
  },
  {
   "attachments": {},
   "cell_type": "markdown",
   "metadata": {},
   "source": [
    "### Column Names and Descriptions for the DataSet\n",
    "* `id` - Unique identifier for a house\n",
    "* `date` - Date house was sold\n",
    "* `price` - Sale price (prediction target)\n",
    "* `bedrooms` - Number of bedrooms\n",
    "* `bathrooms` - Number of bathrooms\n",
    "* `sqft_living` - Square footage of living space in the home\n",
    "* `sqft_lot` - Square footage of the lot\n",
    "* `floors` - Number of floors (levels) in house\n",
    "* `waterfront` - Whether the house is on a waterfront\n",
    "* `view` - Quality of view from house\n",
    "* `condition` - How good the overall condition of the house is. Related to maintenance of house.\n",
    "* `grade` - Overall grade of the house. Related to the construction and design of the house.\n",
    "* `sqft_above` - Square footage of house apart from basement\n",
    "* `sqft_basement` - Square footage of the basement\n",
    "* `yr_built` - Year when house was built\n",
    "* `yr_renovated` - Year when house was renovated\n",
    "* `zipcode` - ZIP Code used by the United States Postal Service\n",
    "* `lat` - Latitude coordinate\n",
    "* `long` - Longitude coordinate\n",
    "* `sqft_living15` - The square footage of interior housing living space for the nearest 15 neighbors\n",
    "* `sqft_lot15` - The square footage of the land lots of the nearest 15 neighbors"
   ]
  },
  {
   "cell_type": "code",
   "execution_count": 8,
   "metadata": {},
   "outputs": [
    {
     "data": {
      "image/png": "[encoded data removed]",
      "text/plain": [
       "<Figure size 720x360 with 3 Axes>"
      ]
     },
     "metadata": {},
     "output_type": "display_data"
    }
   ],
   "source": [
    "# Visualise the missing values in the dataset\n",
    "msno.bar(data, color='purple', figsize=(10, 5), fontsize=8)\n",
    "plt.title(\"\"\"\n",
    "\n",
    "Missing Values Within Dataset\n",
    "\n",
    "\"\"\");"
   ]
  },
  {
   "cell_type": "code",
   "execution_count": 9,
   "metadata": {},
   "outputs": [
    {
     "data": {
      "text/plain": [
       "id                0.000000\n",
       "date              0.000000\n",
       "price             0.000000\n",
       "bedrooms          0.000000\n",
       "bathrooms         0.000000\n",
       "sqft_living       0.000000\n",
       "sqft_lot          0.000000\n",
       "floors            0.000000\n",
       "waterfront       11.001528\n",
       "view              0.291707\n",
       "condition         0.000000\n",
       "grade             0.000000\n",
       "sqft_above        0.000000\n",
       "sqft_basement     0.000000\n",
       "yr_built          0.000000\n",
       "yr_renovated     17.789508\n",
       "zipcode           0.000000\n",
       "lat               0.000000\n",
       "long              0.000000\n",
       "sqft_living15     0.000000\n",
       "sqft_lot15        0.000000\n",
       "dtype: float64"
      ]
     },
     "execution_count": 9,
     "metadata": {},
     "output_type": "execute_result"
    }
   ],
   "source": [
    "# percentage of missing data\n",
    "house_df.isnull().sum()/len(house_df)*100"
   ]
  },
  {
   "cell_type": "code",
   "execution_count": 10,
   "metadata": {},
   "outputs": [],
   "source": [
    "house_df.dropna(inplace=True)"
   ]
  },
  {
   "attachments": {},
   "cell_type": "markdown",
   "metadata": {},
   "source": [
    "We have dropped all the missing values in our data because 11% and 17% are big"
   ]
  },
  {
   "attachments": {},
   "cell_type": "markdown",
   "metadata": {},
   "source": [
    "## Data Cleaning and Preparation"
   ]
  },
  {
   "cell_type": "code",
   "execution_count": 11,
   "metadata": {},
   "outputs": [],
   "source": [
    "def clean_data(df):\n",
    "    '''\n",
    "    Clean data by removing missing values and duplicates\n",
    "    '''\n",
    "    # Remove duplicates\n",
    "    df.drop_duplicates(inplace=True)\n",
    "\n",
    "    # Replace \"?\" and \" \" values with NaN\n",
    "    df['sqft_basement'] = df['sqft_basement'].replace('?', np.nan).replace('', np.nan)\n",
    "\n",
    "    # Convert the column to float data type\n",
    "    df['sqft_basement'] = df['sqft_basement'].astype(float)\n",
    "\n",
    "    # Convert the 'date' column to a datetime data type\n",
    "    df['date'] = pd.to_datetime(df['date'])\n",
    "\n",
    "    #Converting the 'waterfront' column to a binary variable where 1 represents 'YES' and 0 represents 'NO'\n",
    "    df['waterfront'] = df['waterfront'].apply(lambda x: 1 if x == 'YES' else 0)\n",
    "\n",
    "    # Remove missing values\n",
    "    df.dropna(inplace=True)\n",
    "    \n",
    "    return df"
   ]
  },
  {
   "cell_type": "code",
   "execution_count": 12,
   "metadata": {},
   "outputs": [
    {
     "data": {
      "text/html": [
       "<div>\n",
       "<style scoped>\n",
       "    .dataframe tbody tr th:only-of-type {\n",
       "        vertical-align: middle;\n",
       "    }\n",
       "\n",
       "    .dataframe tbody tr th {\n",
       "        vertical-align: top;\n",
       "    }\n",
       "\n",
       "    .dataframe thead th {\n",
       "        text-align: right;\n",
       "    }\n",
       "</style>\n",
       "<table border=\"1\" class=\"dataframe\">\n",
       "  <thead>\n",
       "    <tr style=\"text-align: right;\">\n",
       "      <th></th>\n",
       "      <th>id</th>\n",
       "      <th>date</th>\n",
       "      <th>price</th>\n",
       "      <th>bedrooms</th>\n",
       "      <th>bathrooms</th>\n",
       "      <th>sqft_living</th>\n",
       "      <th>sqft_lot</th>\n",
       "      <th>floors</th>\n",
       "      <th>waterfront</th>\n",
       "      <th>view</th>\n",
       "      <th>...</th>\n",
       "      <th>grade</th>\n",
       "      <th>sqft_above</th>\n",
       "      <th>sqft_basement</th>\n",
       "      <th>yr_built</th>\n",
       "      <th>yr_renovated</th>\n",
       "      <th>zipcode</th>\n",
       "      <th>lat</th>\n",
       "      <th>long</th>\n",
       "      <th>sqft_living15</th>\n",
       "      <th>sqft_lot15</th>\n",
       "    </tr>\n",
       "  </thead>\n",
       "  <tbody>\n",
       "    <tr>\n",
       "      <th>0</th>\n",
       "      <td>7129300520</td>\n",
       "      <td>2014-10-13</td>\n",
       "      <td>221900.0</td>\n",
       "      <td>3</td>\n",
       "      <td>1.00</td>\n",
       "      <td>1180</td>\n",
       "      <td>5650</td>\n",
       "      <td>1.0</td>\n",
       "      <td>0</td>\n",
       "      <td>NONE</td>\n",
       "      <td>...</td>\n",
       "      <td>7 Average</td>\n",
       "      <td>1180</td>\n",
       "      <td>0.0</td>\n",
       "      <td>1955</td>\n",
       "      <td>0.0</td>\n",
       "      <td>98178</td>\n",
       "      <td>47.5112</td>\n",
       "      <td>-122.257</td>\n",
       "      <td>1340</td>\n",
       "      <td>5650</td>\n",
       "    </tr>\n",
       "    <tr>\n",
       "      <th>1</th>\n",
       "      <td>6414100192</td>\n",
       "      <td>2014-12-09</td>\n",
       "      <td>538000.0</td>\n",
       "      <td>3</td>\n",
       "      <td>2.25</td>\n",
       "      <td>2570</td>\n",
       "      <td>7242</td>\n",
       "      <td>2.0</td>\n",
       "      <td>0</td>\n",
       "      <td>NONE</td>\n",
       "      <td>...</td>\n",
       "      <td>7 Average</td>\n",
       "      <td>2170</td>\n",
       "      <td>400.0</td>\n",
       "      <td>1951</td>\n",
       "      <td>1991.0</td>\n",
       "      <td>98125</td>\n",
       "      <td>47.7210</td>\n",
       "      <td>-122.319</td>\n",
       "      <td>1690</td>\n",
       "      <td>7639</td>\n",
       "    </tr>\n",
       "    <tr>\n",
       "      <th>3</th>\n",
       "      <td>2487200875</td>\n",
       "      <td>2014-12-09</td>\n",
       "      <td>604000.0</td>\n",
       "      <td>4</td>\n",
       "      <td>3.00</td>\n",
       "      <td>1960</td>\n",
       "      <td>5000</td>\n",
       "      <td>1.0</td>\n",
       "      <td>0</td>\n",
       "      <td>NONE</td>\n",
       "      <td>...</td>\n",
       "      <td>7 Average</td>\n",
       "      <td>1050</td>\n",
       "      <td>910.0</td>\n",
       "      <td>1965</td>\n",
       "      <td>0.0</td>\n",
       "      <td>98136</td>\n",
       "      <td>47.5208</td>\n",
       "      <td>-122.393</td>\n",
       "      <td>1360</td>\n",
       "      <td>5000</td>\n",
       "    </tr>\n",
       "    <tr>\n",
       "      <th>4</th>\n",
       "      <td>1954400510</td>\n",
       "      <td>2015-02-18</td>\n",
       "      <td>510000.0</td>\n",
       "      <td>3</td>\n",
       "      <td>2.00</td>\n",
       "      <td>1680</td>\n",
       "      <td>8080</td>\n",
       "      <td>1.0</td>\n",
       "      <td>0</td>\n",
       "      <td>NONE</td>\n",
       "      <td>...</td>\n",
       "      <td>8 Good</td>\n",
       "      <td>1680</td>\n",
       "      <td>0.0</td>\n",
       "      <td>1987</td>\n",
       "      <td>0.0</td>\n",
       "      <td>98074</td>\n",
       "      <td>47.6168</td>\n",
       "      <td>-122.045</td>\n",
       "      <td>1800</td>\n",
       "      <td>7503</td>\n",
       "    </tr>\n",
       "    <tr>\n",
       "      <th>5</th>\n",
       "      <td>7237550310</td>\n",
       "      <td>2014-05-12</td>\n",
       "      <td>1230000.0</td>\n",
       "      <td>4</td>\n",
       "      <td>4.50</td>\n",
       "      <td>5420</td>\n",
       "      <td>101930</td>\n",
       "      <td>1.0</td>\n",
       "      <td>0</td>\n",
       "      <td>NONE</td>\n",
       "      <td>...</td>\n",
       "      <td>11 Excellent</td>\n",
       "      <td>3890</td>\n",
       "      <td>1530.0</td>\n",
       "      <td>2001</td>\n",
       "      <td>0.0</td>\n",
       "      <td>98053</td>\n",
       "      <td>47.6561</td>\n",
       "      <td>-122.005</td>\n",
       "      <td>4760</td>\n",
       "      <td>101930</td>\n",
       "    </tr>\n",
       "    <tr>\n",
       "      <th>...</th>\n",
       "      <td>...</td>\n",
       "      <td>...</td>\n",
       "      <td>...</td>\n",
       "      <td>...</td>\n",
       "      <td>...</td>\n",
       "      <td>...</td>\n",
       "      <td>...</td>\n",
       "      <td>...</td>\n",
       "      <td>...</td>\n",
       "      <td>...</td>\n",
       "      <td>...</td>\n",
       "      <td>...</td>\n",
       "      <td>...</td>\n",
       "      <td>...</td>\n",
       "      <td>...</td>\n",
       "      <td>...</td>\n",
       "      <td>...</td>\n",
       "      <td>...</td>\n",
       "      <td>...</td>\n",
       "      <td>...</td>\n",
       "      <td>...</td>\n",
       "    </tr>\n",
       "    <tr>\n",
       "      <th>21592</th>\n",
       "      <td>263000018</td>\n",
       "      <td>2014-05-21</td>\n",
       "      <td>360000.0</td>\n",
       "      <td>3</td>\n",
       "      <td>2.50</td>\n",
       "      <td>1530</td>\n",
       "      <td>1131</td>\n",
       "      <td>3.0</td>\n",
       "      <td>0</td>\n",
       "      <td>NONE</td>\n",
       "      <td>...</td>\n",
       "      <td>8 Good</td>\n",
       "      <td>1530</td>\n",
       "      <td>0.0</td>\n",
       "      <td>2009</td>\n",
       "      <td>0.0</td>\n",
       "      <td>98103</td>\n",
       "      <td>47.6993</td>\n",
       "      <td>-122.346</td>\n",
       "      <td>1530</td>\n",
       "      <td>1509</td>\n",
       "    </tr>\n",
       "    <tr>\n",
       "      <th>21593</th>\n",
       "      <td>6600060120</td>\n",
       "      <td>2015-02-23</td>\n",
       "      <td>400000.0</td>\n",
       "      <td>4</td>\n",
       "      <td>2.50</td>\n",
       "      <td>2310</td>\n",
       "      <td>5813</td>\n",
       "      <td>2.0</td>\n",
       "      <td>0</td>\n",
       "      <td>NONE</td>\n",
       "      <td>...</td>\n",
       "      <td>8 Good</td>\n",
       "      <td>2310</td>\n",
       "      <td>0.0</td>\n",
       "      <td>2014</td>\n",
       "      <td>0.0</td>\n",
       "      <td>98146</td>\n",
       "      <td>47.5107</td>\n",
       "      <td>-122.362</td>\n",
       "      <td>1830</td>\n",
       "      <td>7200</td>\n",
       "    </tr>\n",
       "    <tr>\n",
       "      <th>21594</th>\n",
       "      <td>1523300141</td>\n",
       "      <td>2014-06-23</td>\n",
       "      <td>402101.0</td>\n",
       "      <td>2</td>\n",
       "      <td>0.75</td>\n",
       "      <td>1020</td>\n",
       "      <td>1350</td>\n",
       "      <td>2.0</td>\n",
       "      <td>0</td>\n",
       "      <td>NONE</td>\n",
       "      <td>...</td>\n",
       "      <td>7 Average</td>\n",
       "      <td>1020</td>\n",
       "      <td>0.0</td>\n",
       "      <td>2009</td>\n",
       "      <td>0.0</td>\n",
       "      <td>98144</td>\n",
       "      <td>47.5944</td>\n",
       "      <td>-122.299</td>\n",
       "      <td>1020</td>\n",
       "      <td>2007</td>\n",
       "    </tr>\n",
       "    <tr>\n",
       "      <th>21595</th>\n",
       "      <td>291310100</td>\n",
       "      <td>2015-01-16</td>\n",
       "      <td>400000.0</td>\n",
       "      <td>3</td>\n",
       "      <td>2.50</td>\n",
       "      <td>1600</td>\n",
       "      <td>2388</td>\n",
       "      <td>2.0</td>\n",
       "      <td>0</td>\n",
       "      <td>NONE</td>\n",
       "      <td>...</td>\n",
       "      <td>8 Good</td>\n",
       "      <td>1600</td>\n",
       "      <td>0.0</td>\n",
       "      <td>2004</td>\n",
       "      <td>0.0</td>\n",
       "      <td>98027</td>\n",
       "      <td>47.5345</td>\n",
       "      <td>-122.069</td>\n",
       "      <td>1410</td>\n",
       "      <td>1287</td>\n",
       "    </tr>\n",
       "    <tr>\n",
       "      <th>21596</th>\n",
       "      <td>1523300157</td>\n",
       "      <td>2014-10-15</td>\n",
       "      <td>325000.0</td>\n",
       "      <td>2</td>\n",
       "      <td>0.75</td>\n",
       "      <td>1020</td>\n",
       "      <td>1076</td>\n",
       "      <td>2.0</td>\n",
       "      <td>0</td>\n",
       "      <td>NONE</td>\n",
       "      <td>...</td>\n",
       "      <td>7 Average</td>\n",
       "      <td>1020</td>\n",
       "      <td>0.0</td>\n",
       "      <td>2008</td>\n",
       "      <td>0.0</td>\n",
       "      <td>98144</td>\n",
       "      <td>47.5941</td>\n",
       "      <td>-122.299</td>\n",
       "      <td>1020</td>\n",
       "      <td>1357</td>\n",
       "    </tr>\n",
       "  </tbody>\n",
       "</table>\n",
       "<p>17340 rows × 21 columns</p>\n",
       "</div>"
      ],
      "text/plain": [
       "               id       date      price  bedrooms  bathrooms  sqft_living  \\\n",
       "0      7129300520 2014-10-13   221900.0         3       1.00         1180   \n",
       "1      6414100192 2014-12-09   538000.0         3       2.25         2570   \n",
       "3      2487200875 2014-12-09   604000.0         4       3.00         1960   \n",
       "4      1954400510 2015-02-18   510000.0         3       2.00         1680   \n",
       "5      7237550310 2014-05-12  1230000.0         4       4.50         5420   \n",
       "...           ...        ...        ...       ...        ...          ...   \n",
       "21592   263000018 2014-05-21   360000.0         3       2.50         1530   \n",
       "21593  6600060120 2015-02-23   400000.0         4       2.50         2310   \n",
       "21594  1523300141 2014-06-23   402101.0         2       0.75         1020   \n",
       "21595   291310100 2015-01-16   400000.0         3       2.50         1600   \n",
       "21596  1523300157 2014-10-15   325000.0         2       0.75         1020   \n",
       "\n",
       "       sqft_lot  floors  waterfront  view  ...         grade sqft_above  \\\n",
       "0          5650     1.0           0  NONE  ...     7 Average       1180   \n",
       "1          7242     2.0           0  NONE  ...     7 Average       2170   \n",
       "3          5000     1.0           0  NONE  ...     7 Average       1050   \n",
       "4          8080     1.0           0  NONE  ...        8 Good       1680   \n",
       "5        101930     1.0           0  NONE  ...  11 Excellent       3890   \n",
       "...         ...     ...         ...   ...  ...           ...        ...   \n",
       "21592      1131     3.0           0  NONE  ...        8 Good       1530   \n",
       "21593      5813     2.0           0  NONE  ...        8 Good       2310   \n",
       "21594      1350     2.0           0  NONE  ...     7 Average       1020   \n",
       "21595      2388     2.0           0  NONE  ...        8 Good       1600   \n",
       "21596      1076     2.0           0  NONE  ...     7 Average       1020   \n",
       "\n",
       "       sqft_basement  yr_built  yr_renovated  zipcode      lat     long  \\\n",
       "0                0.0      1955           0.0    98178  47.5112 -122.257   \n",
       "1              400.0      1951        1991.0    98125  47.7210 -122.319   \n",
       "3              910.0      1965           0.0    98136  47.5208 -122.393   \n",
       "4                0.0      1987           0.0    98074  47.6168 -122.045   \n",
       "5             1530.0      2001           0.0    98053  47.6561 -122.005   \n",
       "...              ...       ...           ...      ...      ...      ...   \n",
       "21592            0.0      2009           0.0    98103  47.6993 -122.346   \n",
       "21593            0.0      2014           0.0    98146  47.5107 -122.362   \n",
       "21594            0.0      2009           0.0    98144  47.5944 -122.299   \n",
       "21595            0.0      2004           0.0    98027  47.5345 -122.069   \n",
       "21596            0.0      2008           0.0    98144  47.5941 -122.299   \n",
       "\n",
       "       sqft_living15  sqft_lot15  \n",
       "0               1340        5650  \n",
       "1               1690        7639  \n",
       "3               1360        5000  \n",
       "4               1800        7503  \n",
       "5               4760      101930  \n",
       "...              ...         ...  \n",
       "21592           1530        1509  \n",
       "21593           1830        7200  \n",
       "21594           1020        2007  \n",
       "21595           1410        1287  \n",
       "21596           1020        1357  \n",
       "\n",
       "[17340 rows x 21 columns]"
      ]
     },
     "execution_count": 12,
     "metadata": {},
     "output_type": "execute_result"
    }
   ],
   "source": [
    "clean_data(data)"
   ]
  },
  {
   "cell_type": "code",
   "execution_count": 13,
   "metadata": {},
   "outputs": [
    {
     "name": "stdout",
     "output_type": "stream",
     "text": [
      "Number of rows: 17340\n",
      "Number of columns: 21\n",
      "Data types:\n",
      " id                        int64\n",
      "date             datetime64[ns]\n",
      "price                   float64\n",
      "bedrooms                  int64\n",
      "bathrooms               float64\n",
      "sqft_living               int64\n",
      "sqft_lot                  int64\n",
      "floors                  float64\n",
      "waterfront                int64\n",
      "view                     object\n",
      "condition                object\n",
      "grade                    object\n",
      "sqft_above                int64\n",
      "sqft_basement           float64\n",
      "yr_built                  int64\n",
      "yr_renovated            float64\n",
      "zipcode                   int64\n",
      "lat                     float64\n",
      "long                    float64\n",
      "sqft_living15             int64\n",
      "sqft_lot15                int64\n",
      "dtype: object\n",
      "<class 'pandas.core.frame.DataFrame'>\n",
      "Int64Index: 17340 entries, 0 to 21596\n",
      "Data columns (total 21 columns):\n",
      " #   Column         Non-Null Count  Dtype         \n",
      "---  ------         --------------  -----         \n",
      " 0   id             17340 non-null  int64         \n",
      " 1   date           17340 non-null  datetime64[ns]\n",
      " 2   price          17340 non-null  float64       \n",
      " 3   bedrooms       17340 non-null  int64         \n",
      " 4   bathrooms      17340 non-null  float64       \n",
      " 5   sqft_living    17340 non-null  int64         \n",
      " 6   sqft_lot       17340 non-null  int64         \n",
      " 7   floors         17340 non-null  float64       \n",
      " 8   waterfront     17340 non-null  int64         \n",
      " 9   view           17340 non-null  object        \n",
      " 10  condition      17340 non-null  object        \n",
      " 11  grade          17340 non-null  object        \n",
      " 12  sqft_above     17340 non-null  int64         \n",
      " 13  sqft_basement  17340 non-null  float64       \n",
      " 14  yr_built       17340 non-null  int64         \n",
      " 15  yr_renovated   17340 non-null  float64       \n",
      " 16  zipcode        17340 non-null  int64         \n",
      " 17  lat            17340 non-null  float64       \n",
      " 18  long           17340 non-null  float64       \n",
      " 19  sqft_living15  17340 non-null  int64         \n",
      " 20  sqft_lot15     17340 non-null  int64         \n",
      "dtypes: datetime64[ns](1), float64(7), int64(10), object(3)\n",
      "memory usage: 2.9+ MB\n",
      "info:\n",
      " None\n",
      "columns: Index(['id', 'date', 'price', 'bedrooms', 'bathrooms', 'sqft_living',\n",
      "       'sqft_lot', 'floors', 'waterfront', 'view', 'condition', 'grade',\n",
      "       'sqft_above', 'sqft_basement', 'yr_built', 'yr_renovated', 'zipcode',\n",
      "       'lat', 'long', 'sqft_living15', 'sqft_lot15'],\n",
      "      dtype='object')\n",
      "Head:\n",
      "            id       date      price  bedrooms  bathrooms  sqft_living  \\\n",
      "0  7129300520 2014-10-13   221900.0         3       1.00         1180   \n",
      "1  6414100192 2014-12-09   538000.0         3       2.25         2570   \n",
      "3  2487200875 2014-12-09   604000.0         4       3.00         1960   \n",
      "4  1954400510 2015-02-18   510000.0         3       2.00         1680   \n",
      "5  7237550310 2014-05-12  1230000.0         4       4.50         5420   \n",
      "\n",
      "   sqft_lot  floors  waterfront  view  ...         grade sqft_above  \\\n",
      "0      5650     1.0           0  NONE  ...     7 Average       1180   \n",
      "1      7242     2.0           0  NONE  ...     7 Average       2170   \n",
      "3      5000     1.0           0  NONE  ...     7 Average       1050   \n",
      "4      8080     1.0           0  NONE  ...        8 Good       1680   \n",
      "5    101930     1.0           0  NONE  ...  11 Excellent       3890   \n",
      "\n",
      "   sqft_basement  yr_built  yr_renovated  zipcode      lat     long  \\\n",
      "0            0.0      1955           0.0    98178  47.5112 -122.257   \n",
      "1          400.0      1951        1991.0    98125  47.7210 -122.319   \n",
      "3          910.0      1965           0.0    98136  47.5208 -122.393   \n",
      "4            0.0      1987           0.0    98074  47.6168 -122.045   \n",
      "5         1530.0      2001           0.0    98053  47.6561 -122.005   \n",
      "\n",
      "   sqft_living15  sqft_lot15  \n",
      "0           1340        5650  \n",
      "1           1690        7639  \n",
      "3           1360        5000  \n",
      "4           1800        7503  \n",
      "5           4760      101930  \n",
      "\n",
      "[5 rows x 21 columns]\n",
      "Tail:\n",
      "                id       date     price  bedrooms  bathrooms  sqft_living  \\\n",
      "21592   263000018 2014-05-21  360000.0         3       2.50         1530   \n",
      "21593  6600060120 2015-02-23  400000.0         4       2.50         2310   \n",
      "21594  1523300141 2014-06-23  402101.0         2       0.75         1020   \n",
      "21595   291310100 2015-01-16  400000.0         3       2.50         1600   \n",
      "21596  1523300157 2014-10-15  325000.0         2       0.75         1020   \n",
      "\n",
      "       sqft_lot  floors  waterfront  view  ...      grade sqft_above  \\\n",
      "21592      1131     3.0           0  NONE  ...     8 Good       1530   \n",
      "21593      5813     2.0           0  NONE  ...     8 Good       2310   \n",
      "21594      1350     2.0           0  NONE  ...  7 Average       1020   \n",
      "21595      2388     2.0           0  NONE  ...     8 Good       1600   \n",
      "21596      1076     2.0           0  NONE  ...  7 Average       1020   \n",
      "\n",
      "       sqft_basement  yr_built  yr_renovated  zipcode      lat     long  \\\n",
      "21592            0.0      2009           0.0    98103  47.6993 -122.346   \n",
      "21593            0.0      2014           0.0    98146  47.5107 -122.362   \n",
      "21594            0.0      2009           0.0    98144  47.5944 -122.299   \n",
      "21595            0.0      2004           0.0    98027  47.5345 -122.069   \n",
      "21596            0.0      2008           0.0    98144  47.5941 -122.299   \n",
      "\n",
      "       sqft_living15  sqft_lot15  \n",
      "21592           1530        1509  \n",
      "21593           1830        7200  \n",
      "21594           1020        2007  \n",
      "21595           1410        1287  \n",
      "21596           1020        1357  \n",
      "\n",
      "[5 rows x 21 columns]\n",
      "statistical summary:\n",
      "                  id         price      bedrooms     bathrooms   sqft_living  \\\n",
      "count  1.734000e+04  1.734000e+04  17340.000000  17340.000000  17340.000000   \n",
      "mean   4.587395e+09  5.406210e+05      3.377682      2.121165   2084.768743   \n",
      "std    2.876085e+09  3.684592e+05      0.931706      0.767210    917.698694   \n",
      "min    1.000102e+06  8.000000e+04      1.000000      0.500000    370.000000   \n",
      "25%    2.126049e+09  3.215000e+05      3.000000      1.750000   1430.000000   \n",
      "50%    3.905030e+09  4.500000e+05      3.000000      2.250000   1920.000000   \n",
      "75%    7.326525e+09  6.450000e+05      4.000000      2.500000   2550.000000   \n",
      "max    9.895000e+09  7.700000e+06     33.000000      8.000000  13540.000000   \n",
      "\n",
      "           sqft_lot        floors    waterfront    sqft_above  sqft_basement  \\\n",
      "count  1.734000e+04  17340.000000  17340.000000  17340.000000   17340.000000   \n",
      "mean   1.527911e+04      1.495386      0.006690   1792.411995     292.356747   \n",
      "std    4.225003e+04      0.538132      0.081519    827.514319     443.248527   \n",
      "min    5.200000e+02      1.000000      0.000000    370.000000       0.000000   \n",
      "25%    5.040000e+03      1.000000      0.000000   1200.000000       0.000000   \n",
      "50%    7.620000e+03      1.500000      0.000000   1562.000000       0.000000   \n",
      "75%    1.068250e+04      2.000000      0.000000   2220.000000     560.000000   \n",
      "max    1.651359e+06      3.500000      1.000000   9410.000000    4820.000000   \n",
      "\n",
      "           yr_built  yr_renovated       zipcode           lat          long  \\\n",
      "count  17340.000000  17340.000000  17340.000000  17340.000000  17340.000000   \n",
      "mean    1971.130681     83.111419  98077.688812     47.559528   -122.213367   \n",
      "std       29.312138    398.756281     53.529862      0.138592      0.140718   \n",
      "min     1900.000000      0.000000  98001.000000     47.155900   -122.519000   \n",
      "25%     1952.000000      0.000000  98033.000000     47.469575   -122.328000   \n",
      "50%     1975.000000      0.000000  98065.000000     47.571400   -122.229000   \n",
      "75%     1997.000000      0.000000  98117.000000     47.677500   -122.124000   \n",
      "max     2015.000000   2015.000000  98199.000000     47.777600   -121.315000   \n",
      "\n",
      "       sqft_living15    sqft_lot15  \n",
      "count   17340.000000   17340.00000  \n",
      "mean     1990.397693   12822.93466  \n",
      "std       685.542943   27532.07264  \n",
      "min       399.000000     659.00000  \n",
      "25%      1490.000000    5100.00000  \n",
      "50%      1840.000000    7623.00000  \n",
      "75%      2370.000000   10092.25000  \n",
      "max      6210.000000  871200.00000  \n",
      "Missing values:\n",
      " id               0\n",
      "date             0\n",
      "price            0\n",
      "bedrooms         0\n",
      "bathrooms        0\n",
      "sqft_living      0\n",
      "sqft_lot         0\n",
      "floors           0\n",
      "waterfront       0\n",
      "view             0\n",
      "condition        0\n",
      "grade            0\n",
      "sqft_above       0\n",
      "sqft_basement    0\n",
      "yr_built         0\n",
      "yr_renovated     0\n",
      "zipcode          0\n",
      "lat              0\n",
      "long             0\n",
      "sqft_living15    0\n",
      "sqft_lot15       0\n",
      "dtype: int64\n",
      "duplicated values:\n",
      " <bound method DataFrame.duplicated of                id       date      price  bedrooms  bathrooms  sqft_living  \\\n",
      "0      7129300520 2014-10-13   221900.0         3       1.00         1180   \n",
      "1      6414100192 2014-12-09   538000.0         3       2.25         2570   \n",
      "3      2487200875 2014-12-09   604000.0         4       3.00         1960   \n",
      "4      1954400510 2015-02-18   510000.0         3       2.00         1680   \n",
      "5      7237550310 2014-05-12  1230000.0         4       4.50         5420   \n",
      "...           ...        ...        ...       ...        ...          ...   \n",
      "21592   263000018 2014-05-21   360000.0         3       2.50         1530   \n",
      "21593  6600060120 2015-02-23   400000.0         4       2.50         2310   \n",
      "21594  1523300141 2014-06-23   402101.0         2       0.75         1020   \n",
      "21595   291310100 2015-01-16   400000.0         3       2.50         1600   \n",
      "21596  1523300157 2014-10-15   325000.0         2       0.75         1020   \n",
      "\n",
      "       sqft_lot  floors  waterfront  view  ...         grade sqft_above  \\\n",
      "0          5650     1.0           0  NONE  ...     7 Average       1180   \n",
      "1          7242     2.0           0  NONE  ...     7 Average       2170   \n",
      "3          5000     1.0           0  NONE  ...     7 Average       1050   \n",
      "4          8080     1.0           0  NONE  ...        8 Good       1680   \n",
      "5        101930     1.0           0  NONE  ...  11 Excellent       3890   \n",
      "...         ...     ...         ...   ...  ...           ...        ...   \n",
      "21592      1131     3.0           0  NONE  ...        8 Good       1530   \n",
      "21593      5813     2.0           0  NONE  ...        8 Good       2310   \n",
      "21594      1350     2.0           0  NONE  ...     7 Average       1020   \n",
      "21595      2388     2.0           0  NONE  ...        8 Good       1600   \n",
      "21596      1076     2.0           0  NONE  ...     7 Average       1020   \n",
      "\n",
      "       sqft_basement  yr_built  yr_renovated  zipcode      lat     long  \\\n",
      "0                0.0      1955           0.0    98178  47.5112 -122.257   \n",
      "1              400.0      1951        1991.0    98125  47.7210 -122.319   \n",
      "3              910.0      1965           0.0    98136  47.5208 -122.393   \n",
      "4                0.0      1987           0.0    98074  47.6168 -122.045   \n",
      "5             1530.0      2001           0.0    98053  47.6561 -122.005   \n",
      "...              ...       ...           ...      ...      ...      ...   \n",
      "21592            0.0      2009           0.0    98103  47.6993 -122.346   \n",
      "21593            0.0      2014           0.0    98146  47.5107 -122.362   \n",
      "21594            0.0      2009           0.0    98144  47.5944 -122.299   \n",
      "21595            0.0      2004           0.0    98027  47.5345 -122.069   \n",
      "21596            0.0      2008           0.0    98144  47.5941 -122.299   \n",
      "\n",
      "       sqft_living15  sqft_lot15  \n",
      "0               1340        5650  \n",
      "1               1690        7639  \n",
      "3               1360        5000  \n",
      "4               1800        7503  \n",
      "5               4760      101930  \n",
      "...              ...         ...  \n",
      "21592           1530        1509  \n",
      "21593           1830        7200  \n",
      "21594           1020        2007  \n",
      "21595           1410        1287  \n",
      "21596           1020        1357  \n",
      "\n",
      "[17340 rows x 21 columns]>\n",
      "correlation with the price:\n",
      " id              -0.017224\n",
      "price            1.000000\n",
      "bedrooms         0.306837\n",
      "bathrooms        0.524719\n",
      "sqft_living      0.703520\n",
      "sqft_lot         0.086720\n",
      "floors           0.256500\n",
      "waterfront       0.263387\n",
      "sqft_above       0.608209\n",
      "sqft_basement    0.321079\n",
      "yr_built         0.051421\n",
      "yr_renovated     0.128517\n",
      "zipcode         -0.052491\n",
      "lat              0.307635\n",
      "long             0.021837\n",
      "sqft_living15    0.586046\n",
      "sqft_lot15       0.082925\n",
      "Name: price, dtype: float64\n",
      "condition column:\n",
      " Average      11262\n",
      "Good          4530\n",
      "Very Good     1386\n",
      "Fair           140\n",
      "Poor            22\n",
      "Name: condition, dtype: int64\n",
      "grade column:\n",
      " 7 Average        7193\n",
      "8 Good           4869\n",
      "9 Better         2117\n",
      "6 Low Average    1642\n",
      "10 Very Good      914\n",
      "11 Excellent      320\n",
      "5 Fair            184\n",
      "12 Luxury          71\n",
      "4 Low              18\n",
      "13 Mansion         11\n",
      "3 Poor              1\n",
      "Name: grade, dtype: int64\n",
      "view column:\n",
      " NONE         15649\n",
      "AVERAGE        770\n",
      "GOOD           393\n",
      "FAIR           274\n",
      "EXCELLENT      254\n",
      "Name: view, dtype: int64\n"
     ]
    }
   ],
   "source": [
    "#confirming if our data is clean\n",
    "explore_data(data)"
   ]
  },
  {
   "attachments": {},
   "cell_type": "markdown",
   "metadata": {},
   "source": [
    "## Data Analysis"
   ]
  },
  {
   "attachments": {},
   "cell_type": "markdown",
   "metadata": {},
   "source": [
    "Converting the data types for `sqft_basement` and `date` columns to float and datetime respectively."
   ]
  },
  {
   "cell_type": "code",
   "execution_count": 14,
   "metadata": {},
   "outputs": [],
   "source": [
    "# Replace \"?\" and \" \" values with NaN\n",
    "house_df['sqft_basement'] = house_df['sqft_basement'].replace('?', np.nan).replace('', np.nan)\n",
    "\n",
    "# Convert the column to float data type\n",
    "house_df['sqft_basement'] = house_df['sqft_basement'].astype(float)\n",
    "\n",
    "# Convert the 'date' column to a datetime data type\n",
    "house_df['date'] = pd.to_datetime(house_df['date'])"
   ]
  },
  {
   "cell_type": "code",
   "execution_count": 15,
   "metadata": {},
   "outputs": [
    {
     "name": "stdout",
     "output_type": "stream",
     "text": [
      "<class 'pandas.core.frame.DataFrame'>\n",
      "Int64Index: 15762 entries, 1 to 21596\n",
      "Data columns (total 21 columns):\n",
      " #   Column         Non-Null Count  Dtype         \n",
      "---  ------         --------------  -----         \n",
      " 0   id             15762 non-null  int64         \n",
      " 1   date           15762 non-null  datetime64[ns]\n",
      " 2   price          15762 non-null  float64       \n",
      " 3   bedrooms       15762 non-null  int64         \n",
      " 4   bathrooms      15762 non-null  float64       \n",
      " 5   sqft_living    15762 non-null  int64         \n",
      " 6   sqft_lot       15762 non-null  int64         \n",
      " 7   floors         15762 non-null  float64       \n",
      " 8   waterfront     15762 non-null  object        \n",
      " 9   view           15762 non-null  object        \n",
      " 10  condition      15762 non-null  object        \n",
      " 11  grade          15762 non-null  object        \n",
      " 12  sqft_above     15762 non-null  int64         \n",
      " 13  sqft_basement  15429 non-null  float64       \n",
      " 14  yr_built       15762 non-null  int64         \n",
      " 15  yr_renovated   15762 non-null  float64       \n",
      " 16  zipcode        15762 non-null  int64         \n",
      " 17  lat            15762 non-null  float64       \n",
      " 18  long           15762 non-null  float64       \n",
      " 19  sqft_living15  15762 non-null  int64         \n",
      " 20  sqft_lot15     15762 non-null  int64         \n",
      "dtypes: datetime64[ns](1), float64(7), int64(9), object(4)\n",
      "memory usage: 2.6+ MB\n"
     ]
    }
   ],
   "source": [
    "house_df.info()"
   ]
  },
  {
   "attachments": {},
   "cell_type": "markdown",
   "metadata": {},
   "source": [
    "### Univariate Analysis"
   ]
  },
  {
   "attachments": {},
   "cell_type": "markdown",
   "metadata": {},
   "source": [
    "Visualizing categorical variables in our data"
   ]
  },
  {
   "cell_type": "code",
   "execution_count": 16,
   "metadata": {},
   "outputs": [
    {
     "data": {
      "image/png": "[encoded data removed]",
      "text/plain": [
       "<Figure size 864x360 with 4 Axes>"
      ]
     },
     "metadata": {},
     "output_type": "display_data"
    }
   ],
   "source": [
    "categorical_features = house_df.select_dtypes(\"object\").columns\n",
    "fig, axes = plt.subplots(ncols=len(categorical_features), figsize=(12,5))\n",
    "\n",
    "for index, feature in enumerate(categorical_features):\n",
    "    house_df.groupby(feature).mean().plot.bar(\n",
    "        y=\"price\", ax=axes[index])"
   ]
  },
  {
   "attachments": {},
   "cell_type": "markdown",
   "metadata": {},
   "source": [
    "Visualizing our numerical variables"
   ]
  },
  {
   "cell_type": "code",
   "execution_count": 17,
   "metadata": {},
   "outputs": [
    {
     "data": {
      "image/png": "[encoded data removed]",
      "text/plain": [
       "<Figure size 1152x864 with 16 Axes>"
      ]
     },
     "metadata": {},
     "output_type": "display_data"
    }
   ],
   "source": [
    "house_df.hist(figsize=(16,12));"
   ]
  },
  {
   "attachments": {},
   "cell_type": "markdown",
   "metadata": {},
   "source": [
    "Visualizing the price column alone"
   ]
  },
  {
   "cell_type": "code",
   "execution_count": 18,
   "metadata": {},
   "outputs": [],
   "source": [
    "# Function to plot the histogram, kde and boxplot of the data\n",
    "def plot_distribution(df, col, title, bins_=10):\n",
    "    ''' Plots the distribution of a column in a dataframe as a histogram, kde and boxplot '''\n",
    "    # creating a figure composed of two matplotlib.Axes objects (ax_box and ax_hist)\n",
    "    f, (ax_box, ax_hist) = plt.subplots(2, sharex=True, gridspec_kw={\"height_ratios\": (.15, .85)}, figsize=(10, 5))\n",
    "    \n",
    "    # assign a graph to each ax\n",
    "    sns.boxplot(df[col], ax=ax_box, color='lightgreen')\n",
    "    sns.histplot(data=df, x=col, ax=ax_hist, kde=True, color='lightgreen', bins=bins_, edgecolor='black')\n",
    "    plt.suptitle(title)\n",
    "    plt.tight_layout();"
   ]
  },
  {
   "cell_type": "code",
   "execution_count": 19,
   "metadata": {},
   "outputs": [
    {
     "data": {
      "image/png": "[encoded data removed]",
      "text/plain": [
       "<Figure size 720x360 with 2 Axes>"
      ]
     },
     "metadata": {},
     "output_type": "display_data"
    }
   ],
   "source": [
    "# Visualise the data distribution\n",
    "plot_distribution(data, 'price', 'Price Column Data Distribution', 100)"
   ]
  },
  {
   "attachments": {},
   "cell_type": "markdown",
   "metadata": {},
   "source": [
    "Since we will be using `price` as our target variable, it is best if we log transformed this feature in order to normalize it."
   ]
  },
  {
   "cell_type": "code",
   "execution_count": 20,
   "metadata": {},
   "outputs": [
    {
     "data": {
      "image/png": "[encoded data removed]",
      "text/plain": [
       "<Figure size 576x396 with 1 Axes>"
      ]
     },
     "metadata": {},
     "output_type": "display_data"
    }
   ],
   "source": [
    "# calculating the log of price\n",
    "house_df[\"log(price)\"] = np.log(house_df[\"price\"])\n",
    "#Visualize the price using the logprice column after log transformation\n",
    "sns.distplot(house_df['log(price)'], kde=True);"
   ]
  },
  {
   "attachments": {},
   "cell_type": "markdown",
   "metadata": {},
   "source": [
    "### Bivariate Analysis"
   ]
  },
  {
   "attachments": {},
   "cell_type": "markdown",
   "metadata": {},
   "source": [
    "Heatmap to show the correlation between different features in our data, in order to identify variables that are strongly correlated with each other, and may therefore be important predictors of a target variable. This can help in feature selection for predictive modeling tasks."
   ]
  },
  {
   "cell_type": "code",
   "execution_count": 21,
   "metadata": {},
   "outputs": [
    {
     "data": {
      "image/png": "[encoded data removed]",
      "text/plain": [
       "<Figure size 1440x576 with 2 Axes>"
      ]
     },
     "metadata": {},
     "output_type": "display_data"
    }
   ],
   "source": [
    "# Plot correlation matrix of numerical features\n",
    "fig, ax = plt.subplots(figsize=(20,8))\n",
    "\n",
    "corr = house_df.corr()\n",
    "sns.heatmap(corr, cmap='coolwarm', annot=True, ax=ax)\n",
    "plt.title('Correlation Matrix of Numerical Features')\n",
    "plt.show()\n",
    "\n",
    "# Display plot\n",
    "plt.show()"
   ]
  },
  {
   "attachments": {},
   "cell_type": "markdown",
   "metadata": {},
   "source": [
    "## Objective 1. **Identifying features influencing the pricing.**"
   ]
  },
  {
   "attachments": {},
   "cell_type": "markdown",
   "metadata": {},
   "source": [
    "Top 5 features with the highest correlation with price"
   ]
  },
  {
   "cell_type": "code",
   "execution_count": 22,
   "metadata": {},
   "outputs": [
    {
     "name": "stdout",
     "output_type": "stream",
     "text": [
      "Top 5 features that have the highest correlation with price:\n",
      " sqft_living      0.703520\n",
      "sqft_above       0.608209\n",
      "sqft_living15    0.586046\n",
      "bathrooms        0.524719\n",
      "sqft_basement    0.321079\n",
      "Name: price, dtype: float64\n"
     ]
    }
   ],
   "source": [
    "# Identify top 5 features that have the highest correlation with price\n",
    "corr_matrix = data.corr()\n",
    "top_5_features = corr_matrix['price'].abs().sort_values(ascending=False)[1:6]\n",
    "print(\"Top 5 features that have the highest correlation with price:\\n\", top_5_features)\n",
    "\n"
   ]
  },
  {
   "cell_type": "code",
   "execution_count": 23,
   "metadata": {},
   "outputs": [
    {
     "data": {
      "text/plain": [
       "<seaborn.axisgrid.PairGrid at 0x20bc196b850>"
      ]
     },
     "execution_count": 23,
     "metadata": {},
     "output_type": "execute_result"
    },
    {
     "data": {
      "image/png": "[encoded data removed]",
      "text/plain": [
       "<Figure size 900x180 with 5 Axes>"
      ]
     },
     "metadata": {},
     "output_type": "display_data"
    }
   ],
   "source": [
    "# Visualize the relationship between the top 5 features and price\n",
    "sns.pairplot(data, x_vars=top_5_features.index, y_vars=['price'])"
   ]
  },
  {
   "cell_type": "code",
   "execution_count": 24,
   "metadata": {},
   "outputs": [],
   "source": [
    "def plot_scatter(x, y, x_label, y_label, title):\n",
    "    \"\"\"\n",
    "    Plots a scatter plot of x and y values with labeled axes and title.\n",
    "\n",
    "    Args:\n",
    "        x (list): A list of x values.\n",
    "        y (list): A list of y values.\n",
    "        x_label (str): The label for the x axis.\n",
    "        y_label (str): The label for the y axis.\n",
    "        title (str): The title for the plot.\n",
    "    \"\"\"\n",
    "    plt.scatter(x, y)\n",
    "    plt.xlabel(x_label)\n",
    "    plt.ylabel(y_label)\n",
    "    plt.title(title)\n",
    "    plt.show()\n"
   ]
  },
  {
   "cell_type": "code",
   "execution_count": 25,
   "metadata": {},
   "outputs": [
    {
     "data": {
      "image/png": "[encoded data removed]",
      "text/plain": [
       "<Figure size 576x396 with 1 Axes>"
      ]
     },
     "metadata": {},
     "output_type": "display_data"
    }
   ],
   "source": [
    "plot_scatter(data['sqft_living'], data['price'],'sqft_living', 'price','sqft_living correlation with price')"
   ]
  },
  {
   "attachments": {},
   "cell_type": "markdown",
   "metadata": {},
   "source": [
    "The above scatter plots shows a high correlation with the price."
   ]
  },
  {
   "attachments": {},
   "cell_type": "markdown",
   "metadata": {},
   "source": [
    "<b>Modelling</b>"
   ]
  },
  {
   "cell_type": "code",
   "execution_count": 26,
   "metadata": {},
   "outputs": [
    {
     "name": "stdout",
     "output_type": "stream",
     "text": [
      "                            OLS Regression Results                            \n",
      "==============================================================================\n",
      "Dep. Variable:                  price   R-squared:                       0.495\n",
      "Model:                            OLS   Adj. R-squared:                  0.495\n",
      "Method:                 Least Squares   F-statistic:                 1.699e+04\n",
      "Date:                Thu, 20 Apr 2023   Prob (F-statistic):               0.00\n",
      "Time:                        23:16:41   Log-Likelihood:            -2.4093e+05\n",
      "No. Observations:               17340   AIC:                         4.819e+05\n",
      "Df Residuals:                   17338   BIC:                         4.819e+05\n",
      "Df Model:                           1                                         \n",
      "Covariance Type:            nonrobust                                         \n",
      "===============================================================================\n",
      "                  coef    std err          t      P>|t|      [0.025      0.975]\n",
      "-------------------------------------------------------------------------------\n",
      "const       -4.825e+04   4936.020     -9.776      0.000   -5.79e+04   -3.86e+04\n",
      "sqft_living   282.4658      2.167    130.348      0.000     278.218     286.713\n",
      "==============================================================================\n",
      "Omnibus:                    12129.027   Durbin-Watson:                   1.971\n",
      "Prob(Omnibus):                  0.000   Jarque-Bera (JB):           482954.874\n",
      "Skew:                           2.877   Prob(JB):                         0.00\n",
      "Kurtosis:                      28.206   Cond. No.                     5.65e+03\n",
      "==============================================================================\n",
      "\n",
      "Notes:\n",
      "[1] Standard Errors assume that the covariance matrix of the errors is correctly specified.\n",
      "[2] The condition number is large, 5.65e+03. This might indicate that there are\n",
      "strong multicollinearity or other numerical problems.\n"
     ]
    }
   ],
   "source": [
    "y = data['price']\n",
    "X_baseline = data[['sqft_living']]\n",
    "baseline_model = sm.OLS(y, sm.add_constant(X_baseline))\n",
    "baseline_results = baseline_model.fit()\n",
    "print(baseline_results.summary())"
   ]
  },
  {
   "attachments": {},
   "cell_type": "markdown",
   "metadata": {},
   "source": [
    "* The model is statistically significant overall, with an F-statistic p-value well below 0.05\n",
    "* The model explains about 49.9% of the variance in price\n",
    "* The model coefficients (const and sqft_living) are both statistically significant, with t-statistic p-values well below 0.05\n",
    "* The coefficient for sqft_living is 286.5963, which means that for every additional square foot of living space, the price of the property increases by $286.60.\n",
    "* The intercept (const) of the model is -56200, which means that when the size of the living space is zero, the estimated price is -$56,200. However, this value does not have a practical interpretation since it is not possible for a house to have zero square feet of living space.\n",
    "* The Jarque-Bera test for normality shows that the errors are not normally distributed since the p-value is less than 0.05. This suggests that there may be some non-linearity or heteroscedasticity in the relationship between the independent variable and dependent variable.\n",
    "\n",
    "Overall, we can conclude that sqft_living is a significant predictor of price, but there may be other factors that also affect the price of a property. Additionally, the model may not be the best fit for the data due to the issues with normality and multicollinearity."
   ]
  },
  {
   "attachments": {},
   "cell_type": "markdown",
   "metadata": {},
   "source": [
    "<b>Multiple linear regression</b>"
   ]
  },
  {
   "cell_type": "code",
   "execution_count": 27,
   "metadata": {},
   "outputs": [],
   "source": [
    "#Convert the 'condition' and 'grade' columns to ordinal variables\n",
    "conditions = {'Poor': 1, 'Average': 2, 'Fair': 3, 'Good': 4, 'Very Good': 5, 'Excellent': 6}\n",
    "data['condition'] = data['condition'].map(conditions)\n",
    "\n",
    "grades = {'3 Poor': 1,'4 Low': 2,'5 Fair' : 3, '6 Low Average': 4, '7 Average': 5, '8 Good': 6, '9 Better': 7, '10 Very Good' : 8, '11 Excellent': 8, '12 Luxury': 9, '13 Mansion': 10}\n",
    "data['grade'] = data['grade'].map(grades)"
   ]
  },
  {
   "cell_type": "code",
   "execution_count": 28,
   "metadata": {},
   "outputs": [
    {
     "name": "stdout",
     "output_type": "stream",
     "text": [
      "                            OLS Regression Results                            \n",
      "==============================================================================\n",
      "Dep. Variable:                  price   R-squared:                       0.634\n",
      "Model:                            OLS   Adj. R-squared:                  0.634\n",
      "Method:                 Least Squares   F-statistic:                     3002.\n",
      "Date:                Thu, 20 Apr 2023   Prob (F-statistic):               0.00\n",
      "Time:                        23:16:41   Log-Likelihood:            -2.3814e+05\n",
      "No. Observations:               17340   AIC:                         4.763e+05\n",
      "Df Residuals:                   17329   BIC:                         4.764e+05\n",
      "Df Model:                          10                                         \n",
      "Covariance Type:            nonrobust                                         \n",
      "================================================================================\n",
      "                   coef    std err          t      P>|t|      [0.025      0.975]\n",
      "--------------------------------------------------------------------------------\n",
      "const         6.914e+06   1.57e+05     44.032      0.000    6.61e+06    7.22e+06\n",
      "bedrooms     -4.684e+04   2303.899    -20.333      0.000   -5.14e+04   -4.23e+04\n",
      "bathrooms     5.248e+04   3955.418     13.267      0.000    4.47e+04    6.02e+04\n",
      "sqft_living    199.0908      3.660     54.396      0.000     191.917     206.265\n",
      "sqft_lot        -0.2479      0.041     -6.049      0.000      -0.328      -0.168\n",
      "floors        2.225e+04   3965.298      5.612      0.000    1.45e+04       3e+04\n",
      "waterfront    7.663e+05    2.1e+04     36.428      0.000    7.25e+05    8.08e+05\n",
      "grade         1.182e+05   2539.234     46.540      0.000    1.13e+05    1.23e+05\n",
      "condition     1.005e+04   1752.247      5.735      0.000    6614.368    1.35e+04\n",
      "yr_renovated    12.8354      4.540      2.827      0.005       3.937      21.733\n",
      "yr_built     -3790.5046     81.120    -46.727      0.000   -3949.508   -3631.501\n",
      "==============================================================================\n",
      "Omnibus:                    12996.616   Durbin-Watson:                   1.985\n",
      "Prob(Omnibus):                  0.000   Jarque-Bera (JB):           868405.626\n",
      "Skew:                           3.018   Prob(JB):                         0.00\n",
      "Kurtosis:                      37.139   Cond. No.                     4.17e+06\n",
      "==============================================================================\n",
      "\n",
      "Notes:\n",
      "[1] Standard Errors assume that the covariance matrix of the errors is correctly specified.\n",
      "[2] The condition number is large, 4.17e+06. This might indicate that there are\n",
      "strong multicollinearity or other numerical problems.\n"
     ]
    }
   ],
   "source": [
    "# set the predictor variables\n",
    "X = data[['bedrooms', 'bathrooms', 'sqft_living', 'sqft_lot', 'floors', 'waterfront', \"grade\",\"condition\",\"yr_renovated\",\"yr_built\"]]\n",
    "\n",
    "# add a constant to the predictor variables\n",
    "X = sm.add_constant(X)\n",
    "\n",
    "# set the response variable\n",
    "y = data['price']\n",
    "\n",
    "# create the model\n",
    "model = sm.OLS(y, X)\n",
    "model_results = model.fit()\n",
    "\n",
    "# print the model summary\n",
    "print(model_results.summary())"
   ]
  },
  {
   "attachments": {},
   "cell_type": "markdown",
   "metadata": {},
   "source": [
    "According to the output, our multiple linear regression model has an R-squared value of 0.638, indicating that approximately 63.4% of the variance in home prices can be explained by the predictor variables included in the model.\n",
    "\n",
    "The coefficients of the predictor variables indicate the impact of each variable on the home price.\n",
    " 1. Waterfront property: Homes located on the waterfront have an average increase of $761,500 in value compared to homes that are not on the waterfront.\n",
    " 2. Square footage of living area: An increase in one square foot of living area leads to an increase of $196.33 in home price.\n",
    " 3. Grade: Higher-grade properties have an average increase of $120,400 in value compared to lower-grade properties.\n",
    " 4. Number of bathrooms: Each additional bathroom adds an average of $51,180 to the home price\n",
    " 5. Bedrooms: Each additional bedroom adds an average of $48,080 to the home price\n",
    "\n",
    "The p-values of the coefficients indicate the statistical significance of the impact of each variable on the home price. All the predictor variables in our model have a p-value of 0.000, indicating that they are statistically significant in predicting the home price."
   ]
  },
  {
   "attachments": {},
   "cell_type": "markdown",
   "metadata": {},
   "source": [
    "<b>Metric for Evaluation</b>"
   ]
  },
  {
   "cell_type": "code",
   "execution_count": 29,
   "metadata": {},
   "outputs": [
    {
     "data": {
      "text/plain": [
       "173788.4850613264"
      ]
     },
     "execution_count": 29,
     "metadata": {},
     "output_type": "execute_result"
    }
   ],
   "source": [
    "# Calculate the mean absolute error of the baseline model\n",
    "baseline_mae = mean_absolute_error(y, baseline_results.predict(sm.add_constant(X_baseline)))\n",
    "baseline_mae"
   ]
  },
  {
   "cell_type": "code",
   "execution_count": 30,
   "metadata": {},
   "outputs": [
    {
     "data": {
      "text/plain": [
       "416.87946106917576"
      ]
     },
     "execution_count": 30,
     "metadata": {},
     "output_type": "execute_result"
    }
   ],
   "source": [
    "#calculating the RMSE for the baseline model\n",
    "rmse = np.sqrt(baseline_mae)\n",
    "rmse"
   ]
  },
  {
   "cell_type": "code",
   "execution_count": 31,
   "metadata": {},
   "outputs": [
    {
     "data": {
      "text/plain": [
       "144189.40880555194"
      ]
     },
     "execution_count": 31,
     "metadata": {},
     "output_type": "execute_result"
    }
   ],
   "source": [
    "# calculating the MAE\n",
    "multiple_linear_mae = mean_absolute_error(y, model_results.predict(sm.add_constant(X)))\n",
    "multiple_linear_mae"
   ]
  },
  {
   "cell_type": "code",
   "execution_count": 32,
   "metadata": {},
   "outputs": [
    {
     "data": {
      "text/plain": [
       "379.7228052218512"
      ]
     },
     "execution_count": 32,
     "metadata": {},
     "output_type": "execute_result"
    }
   ],
   "source": [
    "#Calculating the RMSE\n",
    "rmse = np.sqrt(multiple_linear_mae)\n",
    "rmse"
   ]
  },
  {
   "attachments": {},
   "cell_type": "markdown",
   "metadata": {},
   "source": [
    "Our multiple linear regression model is a better model since the RMSE value is lower than that of the baseline model"
   ]
  },
  {
   "attachments": {},
   "cell_type": "markdown",
   "metadata": {},
   "source": [
    "## Objective 2 : **To analyse trends in house prices over time (time series analysis) and predict future prices.**"
   ]
  },
  {
   "cell_type": "code",
   "execution_count": 33,
   "metadata": {},
   "outputs": [],
   "source": [
    "data_2 = house_df.copy()"
   ]
  },
  {
   "cell_type": "code",
   "execution_count": 34,
   "metadata": {},
   "outputs": [
    {
     "data": {
      "text/html": [
       "<div>\n",
       "<style scoped>\n",
       "    .dataframe tbody tr th:only-of-type {\n",
       "        vertical-align: middle;\n",
       "    }\n",
       "\n",
       "    .dataframe tbody tr th {\n",
       "        vertical-align: top;\n",
       "    }\n",
       "\n",
       "    .dataframe thead th {\n",
       "        text-align: right;\n",
       "    }\n",
       "</style>\n",
       "<table border=\"1\" class=\"dataframe\">\n",
       "  <thead>\n",
       "    <tr style=\"text-align: right;\">\n",
       "      <th></th>\n",
       "      <th>id</th>\n",
       "      <th>date</th>\n",
       "      <th>price</th>\n",
       "      <th>bedrooms</th>\n",
       "      <th>bathrooms</th>\n",
       "      <th>sqft_living</th>\n",
       "      <th>sqft_lot</th>\n",
       "      <th>floors</th>\n",
       "      <th>waterfront</th>\n",
       "      <th>view</th>\n",
       "      <th>...</th>\n",
       "      <th>yr_built</th>\n",
       "      <th>yr_renovated</th>\n",
       "      <th>zipcode</th>\n",
       "      <th>lat</th>\n",
       "      <th>long</th>\n",
       "      <th>sqft_living15</th>\n",
       "      <th>sqft_lot15</th>\n",
       "      <th>log(price)</th>\n",
       "      <th>month_sold</th>\n",
       "      <th>year_sold</th>\n",
       "    </tr>\n",
       "  </thead>\n",
       "  <tbody>\n",
       "    <tr>\n",
       "      <th>1</th>\n",
       "      <td>6414100192</td>\n",
       "      <td>2014-12-09</td>\n",
       "      <td>538000.0</td>\n",
       "      <td>3</td>\n",
       "      <td>2.25</td>\n",
       "      <td>2570</td>\n",
       "      <td>7242</td>\n",
       "      <td>2.0</td>\n",
       "      <td>NO</td>\n",
       "      <td>NONE</td>\n",
       "      <td>...</td>\n",
       "      <td>1951</td>\n",
       "      <td>1991.0</td>\n",
       "      <td>98125</td>\n",
       "      <td>47.7210</td>\n",
       "      <td>-122.319</td>\n",
       "      <td>1690</td>\n",
       "      <td>7639</td>\n",
       "      <td>13.195614</td>\n",
       "      <td>12</td>\n",
       "      <td>2014</td>\n",
       "    </tr>\n",
       "    <tr>\n",
       "      <th>3</th>\n",
       "      <td>2487200875</td>\n",
       "      <td>2014-12-09</td>\n",
       "      <td>604000.0</td>\n",
       "      <td>4</td>\n",
       "      <td>3.00</td>\n",
       "      <td>1960</td>\n",
       "      <td>5000</td>\n",
       "      <td>1.0</td>\n",
       "      <td>NO</td>\n",
       "      <td>NONE</td>\n",
       "      <td>...</td>\n",
       "      <td>1965</td>\n",
       "      <td>0.0</td>\n",
       "      <td>98136</td>\n",
       "      <td>47.5208</td>\n",
       "      <td>-122.393</td>\n",
       "      <td>1360</td>\n",
       "      <td>5000</td>\n",
       "      <td>13.311329</td>\n",
       "      <td>12</td>\n",
       "      <td>2014</td>\n",
       "    </tr>\n",
       "    <tr>\n",
       "      <th>4</th>\n",
       "      <td>1954400510</td>\n",
       "      <td>2015-02-18</td>\n",
       "      <td>510000.0</td>\n",
       "      <td>3</td>\n",
       "      <td>2.00</td>\n",
       "      <td>1680</td>\n",
       "      <td>8080</td>\n",
       "      <td>1.0</td>\n",
       "      <td>NO</td>\n",
       "      <td>NONE</td>\n",
       "      <td>...</td>\n",
       "      <td>1987</td>\n",
       "      <td>0.0</td>\n",
       "      <td>98074</td>\n",
       "      <td>47.6168</td>\n",
       "      <td>-122.045</td>\n",
       "      <td>1800</td>\n",
       "      <td>7503</td>\n",
       "      <td>13.142166</td>\n",
       "      <td>2</td>\n",
       "      <td>2015</td>\n",
       "    </tr>\n",
       "    <tr>\n",
       "      <th>5</th>\n",
       "      <td>7237550310</td>\n",
       "      <td>2014-05-12</td>\n",
       "      <td>1230000.0</td>\n",
       "      <td>4</td>\n",
       "      <td>4.50</td>\n",
       "      <td>5420</td>\n",
       "      <td>101930</td>\n",
       "      <td>1.0</td>\n",
       "      <td>NO</td>\n",
       "      <td>NONE</td>\n",
       "      <td>...</td>\n",
       "      <td>2001</td>\n",
       "      <td>0.0</td>\n",
       "      <td>98053</td>\n",
       "      <td>47.6561</td>\n",
       "      <td>-122.005</td>\n",
       "      <td>4760</td>\n",
       "      <td>101930</td>\n",
       "      <td>14.022525</td>\n",
       "      <td>5</td>\n",
       "      <td>2014</td>\n",
       "    </tr>\n",
       "    <tr>\n",
       "      <th>6</th>\n",
       "      <td>1321400060</td>\n",
       "      <td>2014-06-27</td>\n",
       "      <td>257500.0</td>\n",
       "      <td>3</td>\n",
       "      <td>2.25</td>\n",
       "      <td>1715</td>\n",
       "      <td>6819</td>\n",
       "      <td>2.0</td>\n",
       "      <td>NO</td>\n",
       "      <td>NONE</td>\n",
       "      <td>...</td>\n",
       "      <td>1995</td>\n",
       "      <td>0.0</td>\n",
       "      <td>98003</td>\n",
       "      <td>47.3097</td>\n",
       "      <td>-122.327</td>\n",
       "      <td>2238</td>\n",
       "      <td>6819</td>\n",
       "      <td>12.458775</td>\n",
       "      <td>6</td>\n",
       "      <td>2014</td>\n",
       "    </tr>\n",
       "  </tbody>\n",
       "</table>\n",
       "<p>5 rows × 24 columns</p>\n",
       "</div>"
      ],
      "text/plain": [
       "           id       date      price  bedrooms  bathrooms  sqft_living  \\\n",
       "1  6414100192 2014-12-09   538000.0         3       2.25         2570   \n",
       "3  2487200875 2014-12-09   604000.0         4       3.00         1960   \n",
       "4  1954400510 2015-02-18   510000.0         3       2.00         1680   \n",
       "5  7237550310 2014-05-12  1230000.0         4       4.50         5420   \n",
       "6  1321400060 2014-06-27   257500.0         3       2.25         1715   \n",
       "\n",
       "   sqft_lot  floors waterfront  view  ... yr_built yr_renovated  zipcode  \\\n",
       "1      7242     2.0         NO  NONE  ...     1951       1991.0    98125   \n",
       "3      5000     1.0         NO  NONE  ...     1965          0.0    98136   \n",
       "4      8080     1.0         NO  NONE  ...     1987          0.0    98074   \n",
       "5    101930     1.0         NO  NONE  ...     2001          0.0    98053   \n",
       "6      6819     2.0         NO  NONE  ...     1995          0.0    98003   \n",
       "\n",
       "       lat     long  sqft_living15  sqft_lot15  log(price)  month_sold  \\\n",
       "1  47.7210 -122.319           1690        7639   13.195614          12   \n",
       "3  47.5208 -122.393           1360        5000   13.311329          12   \n",
       "4  47.6168 -122.045           1800        7503   13.142166           2   \n",
       "5  47.6561 -122.005           4760      101930   14.022525           5   \n",
       "6  47.3097 -122.327           2238        6819   12.458775           6   \n",
       "\n",
       "   year_sold  \n",
       "1       2014  \n",
       "3       2014  \n",
       "4       2015  \n",
       "5       2014  \n",
       "6       2014  \n",
       "\n",
       "[5 rows x 24 columns]"
      ]
     },
     "execution_count": 34,
     "metadata": {},
     "output_type": "execute_result"
    }
   ],
   "source": [
    "#seperating date into month and year \n",
    "data_2['date'] = pd.to_datetime(data_2['date'])\n",
    "\n",
    "# extracting month and year \n",
    "data_2['month_sold'] = data_2['date'].dt.month\n",
    "data_2['year_sold'] = data_2['date'].dt.year\n",
    "\n",
    "data_2.head()"
   ]
  },
  {
   "cell_type": "code",
   "execution_count": 35,
   "metadata": {},
   "outputs": [
    {
     "data": {
      "text/plain": [
       "6.5760690267732524"
      ]
     },
     "execution_count": 35,
     "metadata": {},
     "output_type": "execute_result"
    }
   ],
   "source": [
    "# Retrieve the mean\n",
    "data_monthly = data_2['month_sold'].mean()\n",
    "data_monthly"
   ]
  },
  {
   "attachments": {},
   "cell_type": "markdown",
   "metadata": {},
   "source": [
    "Based on the output given, the average month the houses were sold was in June"
   ]
  },
  {
   "cell_type": "code",
   "execution_count": 36,
   "metadata": {},
   "outputs": [
    {
     "data": {
      "image/png": "[encoded data removed]",
      "text/plain": [
       "<Figure size 576x396 with 1 Axes>"
      ]
     },
     "metadata": {},
     "output_type": "display_data"
    }
   ],
   "source": [
    "# assuming 'date' column is already converted to datetime format\n",
    "\n",
    "# group data by date and calculate mean price\n",
    "monthly_avg_price = data_2.groupby(pd.Grouper(key='date', freq='M'))['price'].mean()\n",
    "\n",
    "# plot time series\n",
    "plt.plot(monthly_avg_price.index, monthly_avg_price.values)\n",
    "plt.xlabel('Date')\n",
    "plt.ylabel('Average price')\n",
    "plt.title('Price over time')\n",
    "plt.show()"
   ]
  },
  {
   "cell_type": "code",
   "execution_count": 37,
   "metadata": {},
   "outputs": [],
   "source": [
    "# Convert 'yr_renovated' to datetime format and extract year\n",
    "data_2['yr_renovated'] = pd.to_datetime(data_2['yr_renovated'], format='%Y', errors='coerce').dt.year"
   ]
  },
  {
   "cell_type": "code",
   "execution_count": 38,
   "metadata": {},
   "outputs": [
    {
     "data": {
      "text/plain": [
       "1        1991\n",
       "3           0\n",
       "4           0\n",
       "5           0\n",
       "6           0\n",
       "         ... \n",
       "21591       0\n",
       "21592       0\n",
       "21593       0\n",
       "21594       0\n",
       "21596       0\n",
       "Name: yr_renovated, Length: 15762, dtype: Int64"
      ]
     },
     "execution_count": 38,
     "metadata": {},
     "output_type": "execute_result"
    }
   ],
   "source": [
    "# filling NaN values with 0 and converted it to integer data type.\n",
    "data_2['yr_renovated'] = data_2['yr_renovated'].astype('Int64').fillna(0)\n",
    "data_2['yr_renovated']"
   ]
  },
  {
   "cell_type": "code",
   "execution_count": 39,
   "metadata": {},
   "outputs": [
    {
     "data": {
      "text/plain": [
       "0    15111\n",
       "1      651\n",
       "Name: renovated, dtype: int64"
      ]
     },
     "execution_count": 39,
     "metadata": {},
     "output_type": "execute_result"
    }
   ],
   "source": [
    "# One hot encoding for the column 'yr_renovated'\n",
    "\n",
    "data_2['renovated'] = (data_2['yr_renovated'] > 0).astype(int)\n",
    "\n",
    "data_2['renovated'].value_counts()"
   ]
  },
  {
   "attachments": {},
   "cell_type": "markdown",
   "metadata": {},
   "source": [
    "We notice that there are 651 houses that have been renovated and 15,111 houses that have not been renovated."
   ]
  },
  {
   "cell_type": "code",
   "execution_count": 40,
   "metadata": {},
   "outputs": [
    {
     "name": "stdout",
     "output_type": "stream",
     "text": [
      "2015\n"
     ]
    },
    {
     "data": {
      "text/plain": [
       "Index(['id', 'date', 'price', 'bedrooms', 'bathrooms', 'sqft_living',\n",
       "       'sqft_lot', 'floors', 'waterfront', 'view', 'condition', 'grade',\n",
       "       'sqft_above', 'sqft_basement', 'yr_built', 'yr_renovated', 'zipcode',\n",
       "       'lat', 'long', 'sqft_living15', 'sqft_lot15', 'log(price)',\n",
       "       'month_sold', 'year_sold', 'renovated', 'Age'],\n",
       "      dtype='object')"
      ]
     },
     "execution_count": 40,
     "metadata": {},
     "output_type": "execute_result"
    }
   ],
   "source": [
    "#creating a new column - age of the house- which will be given by the latest year minus year built\n",
    "#latest year\n",
    "yr_built_max = data_2['yr_built'].max()\n",
    "print(yr_built_max)\n",
    "#age column \n",
    "data_2['Age'] = yr_built_max - data_2['yr_built']\n",
    "data_2.columns"
   ]
  },
  {
   "attachments": {},
   "cell_type": "markdown",
   "metadata": {},
   "source": [
    "Below is a density plot for Age column"
   ]
  },
  {
   "cell_type": "code",
   "execution_count": 41,
   "metadata": {},
   "outputs": [
    {
     "data": {
      "image/png": "[encoded data removed]",
      "text/plain": [
       "<Figure size 576x396 with 1 Axes>"
      ]
     },
     "metadata": {},
     "output_type": "display_data"
    }
   ],
   "source": [
    "# Explore the Age column created\n",
    "\n",
    "sns.kdeplot(data_2['Age']);\n"
   ]
  },
  {
   "attachments": {},
   "cell_type": "markdown",
   "metadata": {},
   "source": [
    "The following correlation matrix shows some of the features as well as including the newly created column, age."
   ]
  },
  {
   "cell_type": "code",
   "execution_count": 42,
   "metadata": {},
   "outputs": [
    {
     "data": {
      "text/html": [
       "<div>\n",
       "<style scoped>\n",
       "    .dataframe tbody tr th:only-of-type {\n",
       "        vertical-align: middle;\n",
       "    }\n",
       "\n",
       "    .dataframe tbody tr th {\n",
       "        vertical-align: top;\n",
       "    }\n",
       "\n",
       "    .dataframe thead th {\n",
       "        text-align: right;\n",
       "    }\n",
       "</style>\n",
       "<table border=\"1\" class=\"dataframe\">\n",
       "  <thead>\n",
       "    <tr style=\"text-align: right;\">\n",
       "      <th></th>\n",
       "      <th>price</th>\n",
       "      <th>bedrooms</th>\n",
       "      <th>sqft_living</th>\n",
       "      <th>yr_built</th>\n",
       "      <th>yr_renovated</th>\n",
       "      <th>month_sold</th>\n",
       "      <th>year_sold</th>\n",
       "      <th>sqft_lot</th>\n",
       "      <th>Age</th>\n",
       "    </tr>\n",
       "  </thead>\n",
       "  <tbody>\n",
       "    <tr>\n",
       "      <th>price</th>\n",
       "      <td>1.000000</td>\n",
       "      <td>0.305489</td>\n",
       "      <td>0.706189</td>\n",
       "      <td>0.049345</td>\n",
       "      <td>0.122731</td>\n",
       "      <td>-0.008244</td>\n",
       "      <td>0.003856</td>\n",
       "      <td>0.084504</td>\n",
       "      <td>-0.049345</td>\n",
       "    </tr>\n",
       "    <tr>\n",
       "      <th>bedrooms</th>\n",
       "      <td>0.305489</td>\n",
       "      <td>1.000000</td>\n",
       "      <td>0.573575</td>\n",
       "      <td>0.153229</td>\n",
       "      <td>0.017430</td>\n",
       "      <td>-0.005990</td>\n",
       "      <td>-0.003506</td>\n",
       "      <td>0.025460</td>\n",
       "      <td>-0.153229</td>\n",
       "    </tr>\n",
       "    <tr>\n",
       "      <th>sqft_living</th>\n",
       "      <td>0.706189</td>\n",
       "      <td>0.573575</td>\n",
       "      <td>1.000000</td>\n",
       "      <td>0.314220</td>\n",
       "      <td>0.050232</td>\n",
       "      <td>0.011668</td>\n",
       "      <td>-0.026198</td>\n",
       "      <td>0.165336</td>\n",
       "      <td>-0.314220</td>\n",
       "    </tr>\n",
       "    <tr>\n",
       "      <th>yr_built</th>\n",
       "      <td>0.049345</td>\n",
       "      <td>0.153229</td>\n",
       "      <td>0.314220</td>\n",
       "      <td>1.000000</td>\n",
       "      <td>-0.223541</td>\n",
       "      <td>-0.005769</td>\n",
       "      <td>0.003920</td>\n",
       "      <td>0.051578</td>\n",
       "      <td>-1.000000</td>\n",
       "    </tr>\n",
       "    <tr>\n",
       "      <th>yr_renovated</th>\n",
       "      <td>0.122731</td>\n",
       "      <td>0.017430</td>\n",
       "      <td>0.050232</td>\n",
       "      <td>-0.223541</td>\n",
       "      <td>1.000000</td>\n",
       "      <td>0.010854</td>\n",
       "      <td>-0.022068</td>\n",
       "      <td>0.002147</td>\n",
       "      <td>0.223541</td>\n",
       "    </tr>\n",
       "    <tr>\n",
       "      <th>month_sold</th>\n",
       "      <td>-0.008244</td>\n",
       "      <td>-0.005990</td>\n",
       "      <td>0.011668</td>\n",
       "      <td>-0.005769</td>\n",
       "      <td>0.010854</td>\n",
       "      <td>1.000000</td>\n",
       "      <td>-0.781186</td>\n",
       "      <td>-0.003134</td>\n",
       "      <td>0.005769</td>\n",
       "    </tr>\n",
       "    <tr>\n",
       "      <th>year_sold</th>\n",
       "      <td>0.003856</td>\n",
       "      <td>-0.003506</td>\n",
       "      <td>-0.026198</td>\n",
       "      <td>0.003920</td>\n",
       "      <td>-0.022068</td>\n",
       "      <td>-0.781186</td>\n",
       "      <td>1.000000</td>\n",
       "      <td>0.006120</td>\n",
       "      <td>-0.003920</td>\n",
       "    </tr>\n",
       "    <tr>\n",
       "      <th>sqft_lot</th>\n",
       "      <td>0.084504</td>\n",
       "      <td>0.025460</td>\n",
       "      <td>0.165336</td>\n",
       "      <td>0.051578</td>\n",
       "      <td>0.002147</td>\n",
       "      <td>-0.003134</td>\n",
       "      <td>0.006120</td>\n",
       "      <td>1.000000</td>\n",
       "      <td>-0.051578</td>\n",
       "    </tr>\n",
       "    <tr>\n",
       "      <th>Age</th>\n",
       "      <td>-0.049345</td>\n",
       "      <td>-0.153229</td>\n",
       "      <td>-0.314220</td>\n",
       "      <td>-1.000000</td>\n",
       "      <td>0.223541</td>\n",
       "      <td>0.005769</td>\n",
       "      <td>-0.003920</td>\n",
       "      <td>-0.051578</td>\n",
       "      <td>1.000000</td>\n",
       "    </tr>\n",
       "  </tbody>\n",
       "</table>\n",
       "</div>"
      ],
      "text/plain": [
       "                 price  bedrooms  sqft_living  yr_built  yr_renovated  \\\n",
       "price         1.000000  0.305489     0.706189  0.049345      0.122731   \n",
       "bedrooms      0.305489  1.000000     0.573575  0.153229      0.017430   \n",
       "sqft_living   0.706189  0.573575     1.000000  0.314220      0.050232   \n",
       "yr_built      0.049345  0.153229     0.314220  1.000000     -0.223541   \n",
       "yr_renovated  0.122731  0.017430     0.050232 -0.223541      1.000000   \n",
       "month_sold   -0.008244 -0.005990     0.011668 -0.005769      0.010854   \n",
       "year_sold     0.003856 -0.003506    -0.026198  0.003920     -0.022068   \n",
       "sqft_lot      0.084504  0.025460     0.165336  0.051578      0.002147   \n",
       "Age          -0.049345 -0.153229    -0.314220 -1.000000      0.223541   \n",
       "\n",
       "              month_sold  year_sold  sqft_lot       Age  \n",
       "price          -0.008244   0.003856  0.084504 -0.049345  \n",
       "bedrooms       -0.005990  -0.003506  0.025460 -0.153229  \n",
       "sqft_living     0.011668  -0.026198  0.165336 -0.314220  \n",
       "yr_built       -0.005769   0.003920  0.051578 -1.000000  \n",
       "yr_renovated    0.010854  -0.022068  0.002147  0.223541  \n",
       "month_sold      1.000000  -0.781186 -0.003134  0.005769  \n",
       "year_sold      -0.781186   1.000000  0.006120 -0.003920  \n",
       "sqft_lot       -0.003134   0.006120  1.000000 -0.051578  \n",
       "Age             0.005769  -0.003920 -0.051578  1.000000  "
      ]
     },
     "execution_count": 42,
     "metadata": {},
     "output_type": "execute_result"
    }
   ],
   "source": [
    "data_2[['price','bedrooms','sqft_living','condition','grade', 'yr_built','yr_renovated','month_sold','year_sold', 'sqft_lot','Age']].corr()"
   ]
  },
  {
   "attachments": {},
   "cell_type": "markdown",
   "metadata": {},
   "source": [
    "Visualizing the relationship of the age of the property against price"
   ]
  },
  {
   "cell_type": "code",
   "execution_count": 43,
   "metadata": {},
   "outputs": [
    {
     "data": {
      "image/png": "[encoded data removed]",
      "text/plain": [
       "<Figure size 1080x576 with 1 Axes>"
      ]
     },
     "metadata": {},
     "output_type": "display_data"
    }
   ],
   "source": [
    "# Visualization on Age v Price on a scatter plot\n",
    "\n",
    "plt.figure(figsize=(15, 8))\n",
    "sns.scatterplot(data=data_2, x='Age',  y='price')\n",
    "plt.title('price vs Age');\n"
   ]
  },
  {
   "attachments": {},
   "cell_type": "markdown",
   "metadata": {},
   "source": [
    "A linear regression model for Age and price"
   ]
  },
  {
   "cell_type": "code",
   "execution_count": 44,
   "metadata": {},
   "outputs": [
    {
     "name": "stdout",
     "output_type": "stream",
     "text": [
      "const    568795.600304\n",
      "Age        -626.092195\n",
      "dtype: float64\n",
      "\n",
      "const    0.000000e+00\n",
      "Age      5.703425e-10\n",
      "dtype: float64\n"
     ]
    }
   ],
   "source": [
    "X = data_2[['Age']]\n",
    "y = data_2['price']\n",
    "\n",
    "# Add constant to X\n",
    "X = sm.add_constant(X)\n",
    "\n",
    "# Create and fit OLS model\n",
    "model = sm.OLS(y, X).fit()\n",
    "\n",
    "print(model.params)\n",
    "print()\n",
    "print(model.pvalues)"
   ]
  },
  {
   "attachments": {},
   "cell_type": "markdown",
   "metadata": {},
   "source": [
    "<b>Interpretation</b>\n",
    "\n",
    "Based on this simple regression model, we can note that there is a statistically negative significant relationship between the age of the property and the price at which it was sold.\n",
    "\n",
    "* The coefficient of -674.743074 indicates that, a one year increase would be associated with a $674.74 decrease in the sale price, on average. \n",
    "\n",
    "* Overall, the results suggest that the age of a property may be a significant predictor of its price, however there are other variables that would need further exploration in order to understand better the determinants of house prices."
   ]
  },
  {
   "cell_type": "code",
   "execution_count": 45,
   "metadata": {},
   "outputs": [
    {
     "name": "stdout",
     "output_type": "stream",
     "text": [
      "MAE: 234721.94876067538\n",
      "RMSE 371760.5937215026\n"
     ]
    }
   ],
   "source": [
    "# Predicts the values using the model\n",
    "y_pred = model.predict(X)\n",
    "\n",
    "# Calculate the mean absolute error\n",
    "mae = np.mean(np.abs(y - y_pred))\n",
    "print('MAE:', mae)\n",
    "\n",
    "mse = np.mean((y - y_pred)** 2)\n",
    "\n",
    "rmse = np.sqrt(mse)\n",
    "print('RMSE', rmse)"
   ]
  },
  {
   "attachments": {},
   "cell_type": "markdown",
   "metadata": {},
   "source": [
    "Although, we have a higher RMSE compared to the MAE in this model, we will still remain with it as the metric of evaluation as based on the conclusion, it may be attributed to other factors. "
   ]
  },
  {
   "attachments": {},
   "cell_type": "markdown",
   "metadata": {},
   "source": [
    "<b>Multiple Linear Regression</b>\n",
    "\n",
    "We created a multiple linear regression model that includes price as the dependent variable and different features such as :\n",
    "* bedrooms\n",
    "* sqft_living\n",
    "* condition \n",
    "* year_sold and month_sold &\n",
    "* age\n",
    "\n",
    "as the independent variables in this model."
   ]
  },
  {
   "cell_type": "code",
   "execution_count": 46,
   "metadata": {},
   "outputs": [
    {
     "name": "stdout",
     "output_type": "stream",
     "text": [
      "R_squared: 0.5493984181963636\n",
      "\n",
      "F_Statistic: 2744.021399005872\n",
      "\n",
      "Intercept                -76684.708715\n",
      "condition[T.Fair]        -70198.774025\n",
      "condition[T.Good]         -6597.693663\n",
      "condition[T.Poor]        -39795.351992\n",
      "condition[T.Very Good]    40213.720215\n",
      "sqft_living                 346.692388\n",
      "bedrooms                 -62773.970748\n",
      "Age                        2428.664229\n",
      "dtype: float64\n",
      "\n",
      "Intercept                  1.777015e-18\n",
      "condition[T.Fair]          1.504801e-03\n",
      "condition[T.Good]          1.759438e-01\n",
      "condition[T.Poor]          4.890063e-01\n",
      "condition[T.Very Good]     3.647666e-07\n",
      "sqft_living                0.000000e+00\n",
      "bedrooms                  4.781444e-126\n",
      "Age                       3.190623e-206\n",
      "dtype: float64\n"
     ]
    }
   ],
   "source": [
    "from statsmodels.formula.api import ols\n",
    "\n",
    "features = ['bedrooms','sqft_living','condition', 'yr_built', 'Age', 'year_sold', 'month_sold','price' ]\n",
    "\n",
    "formula = 'price ~ sqft_living + bedrooms + Age + condition'\n",
    "model_2 = ols(formula = formula, data = data_2[features]).fit()\n",
    "\n",
    "print('R_squared:', model_2.rsquared)\n",
    "print()\n",
    "print('F_Statistic:', model_2.fvalue)\n",
    "print()\n",
    "print(model_2.params)\n",
    "print()\n",
    "print(model_2.pvalues)"
   ]
  },
  {
   "attachments": {},
   "cell_type": "markdown",
   "metadata": {},
   "source": [
    "<b> Interpretation </b>\n",
    "\n",
    "This multiple linear regression model purpose was to predict house prices based on several independent variables.\n",
    "\n",
    "* The <b>R-Squared value</b> 0.549 suggests that the model can explain for 54.17% of the variance in house prices, this may be interpreted as a moderate fit.\n",
    "\n",
    "* Under the <b>intercept</b> coefficient of -7.668e+04 means that, on average, the coefficients of the different conditions show that, a house that is in very good condition can be sold for $40,210 more than the average price, in comparison to a house that is in fair condition that sells for $70,200 less!\n",
    "\n",
    "* The coefficient for <b>sqft_living</b> of 346.6924 goes to imply that, on average, the price of a house increases by $346.69 for each additional square foot of living space. The coefficient for bedrooms of -6.277e+04 implies that, on average, each additional bedroom decreases the house price by $62,770.\n",
    "\n",
    "* The coefficient for <b> age </b>suggests that, on average, the price of a house increases by $2,428.66 for each additional year of age. \n",
    "\n",
    "*  The model has a significant F-statistic of 3644.89 and a low p-value, indicating that the model is statistically significant."
   ]
  },
  {
   "attachments": {},
   "cell_type": "markdown",
   "metadata": {},
   "source": [
    "## Objective 3 : **To identify extreme prices (outlier detection) and recommend better pricing strategy.**"
   ]
  },
  {
   "attachments": {},
   "cell_type": "markdown",
   "metadata": {},
   "source": [
    "In this section, we analyse the outliers in price category. We identify the houses with extremely high and low prices, and try to find out the reason for it. We also suggest a better pricing strategy."
   ]
  },
  {
   "cell_type": "code",
   "execution_count": 47,
   "metadata": {},
   "outputs": [],
   "source": [
    "data_3 = house_df.copy()"
   ]
  },
  {
   "attachments": {},
   "cell_type": "markdown",
   "metadata": {},
   "source": [
    "Identifying outliers in the price column of our dataset. "
   ]
  },
  {
   "cell_type": "code",
   "execution_count": 48,
   "metadata": {},
   "outputs": [
    {
     "name": "stdout",
     "output_type": "stream",
     "text": [
      "282 outliers found\n"
     ]
    }
   ],
   "source": [
    "count = 0\n",
    "price_outliers = []\n",
    "\n",
    "# Calculate the z-score for each data point\n",
    "z_scores = (data_3['price'] - data_3['price'].mean()) / data_3['price'].std()\n",
    "\n",
    "# Create a new empty DataFrame to store the outliers\n",
    "data_outliers = pd.DataFrame(columns=data_3.columns)\n",
    "\n",
    "for idx, row in data_3['price'].T.iteritems():\n",
    "    if abs(z_scores[idx]) > 3:\n",
    "        count += 1\n",
    "        # Append the outlier row to the data_outliers DataFrame\n",
    "        data_outliers = data_outliers.append(data_3.loc[idx])\n",
    "        # Add the index of the outlier row to the price_outliers list (if needed)\n",
    "        price_outliers.append(idx)\n",
    "\n",
    "# Print the count of outliers found\n",
    "print(f\"{count} outliers found\")"
   ]
  },
  {
   "attachments": {},
   "cell_type": "markdown",
   "metadata": {},
   "source": [
    "The code above checks if there is any extreme prices for the houses. It then adds them to the new list of extreme prices and shows how many it found."
   ]
  },
  {
   "cell_type": "code",
   "execution_count": 49,
   "metadata": {},
   "outputs": [
    {
     "data": {
      "text/html": [
       "<div>\n",
       "<style scoped>\n",
       "    .dataframe tbody tr th:only-of-type {\n",
       "        vertical-align: middle;\n",
       "    }\n",
       "\n",
       "    .dataframe tbody tr th {\n",
       "        vertical-align: top;\n",
       "    }\n",
       "\n",
       "    .dataframe thead th {\n",
       "        text-align: right;\n",
       "    }\n",
       "</style>\n",
       "<table border=\"1\" class=\"dataframe\">\n",
       "  <thead>\n",
       "    <tr style=\"text-align: right;\">\n",
       "      <th></th>\n",
       "      <th>id</th>\n",
       "      <th>date</th>\n",
       "      <th>price</th>\n",
       "      <th>bedrooms</th>\n",
       "      <th>bathrooms</th>\n",
       "      <th>sqft_living</th>\n",
       "      <th>sqft_lot</th>\n",
       "      <th>floors</th>\n",
       "      <th>waterfront</th>\n",
       "      <th>view</th>\n",
       "      <th>...</th>\n",
       "      <th>sqft_above</th>\n",
       "      <th>sqft_basement</th>\n",
       "      <th>yr_built</th>\n",
       "      <th>yr_renovated</th>\n",
       "      <th>zipcode</th>\n",
       "      <th>lat</th>\n",
       "      <th>long</th>\n",
       "      <th>sqft_living15</th>\n",
       "      <th>sqft_lot15</th>\n",
       "      <th>log(price)</th>\n",
       "    </tr>\n",
       "  </thead>\n",
       "  <tbody>\n",
       "    <tr>\n",
       "      <th>21</th>\n",
       "      <td>2524049179</td>\n",
       "      <td>2014-08-26</td>\n",
       "      <td>2000000.0</td>\n",
       "      <td>3</td>\n",
       "      <td>2.75</td>\n",
       "      <td>3050</td>\n",
       "      <td>44867</td>\n",
       "      <td>1.0</td>\n",
       "      <td>NO</td>\n",
       "      <td>EXCELLENT</td>\n",
       "      <td>...</td>\n",
       "      <td>2330</td>\n",
       "      <td>720.0</td>\n",
       "      <td>1968</td>\n",
       "      <td>0.0</td>\n",
       "      <td>98040</td>\n",
       "      <td>47.5316</td>\n",
       "      <td>-122.233</td>\n",
       "      <td>4110</td>\n",
       "      <td>20336</td>\n",
       "      <td>14.508658</td>\n",
       "    </tr>\n",
       "    <tr>\n",
       "      <th>153</th>\n",
       "      <td>7855801670</td>\n",
       "      <td>2015-04-01</td>\n",
       "      <td>2250000.0</td>\n",
       "      <td>4</td>\n",
       "      <td>3.25</td>\n",
       "      <td>5180</td>\n",
       "      <td>19850</td>\n",
       "      <td>2.0</td>\n",
       "      <td>NO</td>\n",
       "      <td>GOOD</td>\n",
       "      <td>...</td>\n",
       "      <td>3540</td>\n",
       "      <td>1640.0</td>\n",
       "      <td>2006</td>\n",
       "      <td>0.0</td>\n",
       "      <td>98006</td>\n",
       "      <td>47.5620</td>\n",
       "      <td>-122.162</td>\n",
       "      <td>3160</td>\n",
       "      <td>9750</td>\n",
       "      <td>14.626441</td>\n",
       "    </tr>\n",
       "    <tr>\n",
       "      <th>246</th>\n",
       "      <td>2025069065</td>\n",
       "      <td>2014-09-29</td>\n",
       "      <td>2400000.0</td>\n",
       "      <td>4</td>\n",
       "      <td>2.50</td>\n",
       "      <td>3650</td>\n",
       "      <td>8354</td>\n",
       "      <td>1.0</td>\n",
       "      <td>YES</td>\n",
       "      <td>EXCELLENT</td>\n",
       "      <td>...</td>\n",
       "      <td>1830</td>\n",
       "      <td>1820.0</td>\n",
       "      <td>2000</td>\n",
       "      <td>0.0</td>\n",
       "      <td>98074</td>\n",
       "      <td>47.6338</td>\n",
       "      <td>-122.072</td>\n",
       "      <td>3120</td>\n",
       "      <td>18841</td>\n",
       "      <td>14.690979</td>\n",
       "    </tr>\n",
       "    <tr>\n",
       "      <th>282</th>\n",
       "      <td>7424700045</td>\n",
       "      <td>2015-05-13</td>\n",
       "      <td>2050000.0</td>\n",
       "      <td>5</td>\n",
       "      <td>3.00</td>\n",
       "      <td>3830</td>\n",
       "      <td>8480</td>\n",
       "      <td>2.0</td>\n",
       "      <td>NO</td>\n",
       "      <td>FAIR</td>\n",
       "      <td>...</td>\n",
       "      <td>2630</td>\n",
       "      <td>1200.0</td>\n",
       "      <td>1905</td>\n",
       "      <td>1994.0</td>\n",
       "      <td>98122</td>\n",
       "      <td>47.6166</td>\n",
       "      <td>-122.287</td>\n",
       "      <td>3050</td>\n",
       "      <td>7556</td>\n",
       "      <td>14.533350</td>\n",
       "    </tr>\n",
       "    <tr>\n",
       "      <th>300</th>\n",
       "      <td>3225069065</td>\n",
       "      <td>2014-06-24</td>\n",
       "      <td>3080000.0</td>\n",
       "      <td>4</td>\n",
       "      <td>5.00</td>\n",
       "      <td>4550</td>\n",
       "      <td>18641</td>\n",
       "      <td>1.0</td>\n",
       "      <td>YES</td>\n",
       "      <td>EXCELLENT</td>\n",
       "      <td>...</td>\n",
       "      <td>2600</td>\n",
       "      <td>1950.0</td>\n",
       "      <td>2002</td>\n",
       "      <td>0.0</td>\n",
       "      <td>98074</td>\n",
       "      <td>47.6053</td>\n",
       "      <td>-122.077</td>\n",
       "      <td>4550</td>\n",
       "      <td>19508</td>\n",
       "      <td>14.940440</td>\n",
       "    </tr>\n",
       "  </tbody>\n",
       "</table>\n",
       "<p>5 rows × 22 columns</p>\n",
       "</div>"
      ],
      "text/plain": [
       "             id       date      price bedrooms  bathrooms sqft_living  \\\n",
       "21   2524049179 2014-08-26  2000000.0        3       2.75        3050   \n",
       "153  7855801670 2015-04-01  2250000.0        4       3.25        5180   \n",
       "246  2025069065 2014-09-29  2400000.0        4       2.50        3650   \n",
       "282  7424700045 2015-05-13  2050000.0        5       3.00        3830   \n",
       "300  3225069065 2014-06-24  3080000.0        4       5.00        4550   \n",
       "\n",
       "    sqft_lot  floors waterfront       view  ... sqft_above sqft_basement  \\\n",
       "21     44867     1.0         NO  EXCELLENT  ...       2330         720.0   \n",
       "153    19850     2.0         NO       GOOD  ...       3540        1640.0   \n",
       "246     8354     1.0        YES  EXCELLENT  ...       1830        1820.0   \n",
       "282     8480     2.0         NO       FAIR  ...       2630        1200.0   \n",
       "300    18641     1.0        YES  EXCELLENT  ...       2600        1950.0   \n",
       "\n",
       "    yr_built  yr_renovated zipcode      lat     long  sqft_living15  \\\n",
       "21      1968           0.0   98040  47.5316 -122.233           4110   \n",
       "153     2006           0.0   98006  47.5620 -122.162           3160   \n",
       "246     2000           0.0   98074  47.6338 -122.072           3120   \n",
       "282     1905        1994.0   98122  47.6166 -122.287           3050   \n",
       "300     2002           0.0   98074  47.6053 -122.077           4550   \n",
       "\n",
       "     sqft_lot15 log(price)  \n",
       "21        20336  14.508658  \n",
       "153        9750  14.626441  \n",
       "246       18841  14.690979  \n",
       "282        7556  14.533350  \n",
       "300       19508  14.940440  \n",
       "\n",
       "[5 rows x 22 columns]"
      ]
     },
     "execution_count": 49,
     "metadata": {},
     "output_type": "execute_result"
    }
   ],
   "source": [
    "data_outliers.head()"
   ]
  },
  {
   "cell_type": "code",
   "execution_count": 50,
   "metadata": {},
   "outputs": [
    {
     "name": "stdout",
     "output_type": "stream",
     "text": [
      "<class 'pandas.core.frame.DataFrame'>\n",
      "Int64Index: 282 entries, 21 to 21560\n",
      "Data columns (total 22 columns):\n",
      " #   Column         Non-Null Count  Dtype         \n",
      "---  ------         --------------  -----         \n",
      " 0   id             282 non-null    object        \n",
      " 1   date           282 non-null    datetime64[ns]\n",
      " 2   price          282 non-null    float64       \n",
      " 3   bedrooms       282 non-null    object        \n",
      " 4   bathrooms      282 non-null    float64       \n",
      " 5   sqft_living    282 non-null    object        \n",
      " 6   sqft_lot       282 non-null    object        \n",
      " 7   floors         282 non-null    float64       \n",
      " 8   waterfront     282 non-null    object        \n",
      " 9   view           282 non-null    object        \n",
      " 10  condition      282 non-null    object        \n",
      " 11  grade          282 non-null    object        \n",
      " 12  sqft_above     282 non-null    object        \n",
      " 13  sqft_basement  279 non-null    float64       \n",
      " 14  yr_built       282 non-null    object        \n",
      " 15  yr_renovated   282 non-null    float64       \n",
      " 16  zipcode        282 non-null    object        \n",
      " 17  lat            282 non-null    float64       \n",
      " 18  long           282 non-null    float64       \n",
      " 19  sqft_living15  282 non-null    object        \n",
      " 20  sqft_lot15     282 non-null    object        \n",
      " 21  log(price)     282 non-null    float64       \n",
      "dtypes: datetime64[ns](1), float64(8), object(13)\n",
      "memory usage: 50.7+ KB\n"
     ]
    }
   ],
   "source": [
    "data_outliers.info()"
   ]
  },
  {
   "cell_type": "code",
   "execution_count": 51,
   "metadata": {},
   "outputs": [],
   "source": [
    "# Convert the column to float data type\n",
    "cols_to_convert = ['bedrooms','sqft_living', 'sqft_lot', 'sqft_above', 'sqft_living15', 'sqft_lot15']\n",
    "\n",
    "data_outliers[cols_to_convert] = data_outliers[cols_to_convert].astype(float)\n"
   ]
  },
  {
   "cell_type": "code",
   "execution_count": 52,
   "metadata": {},
   "outputs": [
    {
     "name": "stdout",
     "output_type": "stream",
     "text": [
      "<class 'pandas.core.frame.DataFrame'>\n",
      "Int64Index: 282 entries, 21 to 21560\n",
      "Data columns (total 22 columns):\n",
      " #   Column         Non-Null Count  Dtype         \n",
      "---  ------         --------------  -----         \n",
      " 0   id             282 non-null    object        \n",
      " 1   date           282 non-null    datetime64[ns]\n",
      " 2   price          282 non-null    float64       \n",
      " 3   bedrooms       282 non-null    float64       \n",
      " 4   bathrooms      282 non-null    float64       \n",
      " 5   sqft_living    282 non-null    float64       \n",
      " 6   sqft_lot       282 non-null    float64       \n",
      " 7   floors         282 non-null    float64       \n",
      " 8   waterfront     282 non-null    object        \n",
      " 9   view           282 non-null    object        \n",
      " 10  condition      282 non-null    object        \n",
      " 11  grade          282 non-null    object        \n",
      " 12  sqft_above     282 non-null    float64       \n",
      " 13  sqft_basement  279 non-null    float64       \n",
      " 14  yr_built       282 non-null    object        \n",
      " 15  yr_renovated   282 non-null    float64       \n",
      " 16  zipcode        282 non-null    object        \n",
      " 17  lat            282 non-null    float64       \n",
      " 18  long           282 non-null    float64       \n",
      " 19  sqft_living15  282 non-null    float64       \n",
      " 20  sqft_lot15     282 non-null    float64       \n",
      " 21  log(price)     282 non-null    float64       \n",
      "dtypes: datetime64[ns](1), float64(14), object(7)\n",
      "memory usage: 50.7+ KB\n"
     ]
    }
   ],
   "source": [
    "data_outliers.info()"
   ]
  },
  {
   "cell_type": "code",
   "execution_count": 53,
   "metadata": {},
   "outputs": [
    {
     "data": {
      "text/plain": [
       "103"
      ]
     },
     "execution_count": 53,
     "metadata": {},
     "output_type": "execute_result"
    }
   ],
   "source": [
    "# calculating the age of the houses in the price outliers\n",
    "data_outliers['house_age'] = np.where(data_outliers['yr_built']==0, 0, 2015 - data_outliers['yr_built'])\n",
    "\n",
    "# the number of houses older than 50 years in our outliers\n",
    "house_age_gt_50 = list(data_outliers[data_outliers['house_age']>50]['house_age'])\n",
    "len(house_age_gt_50)"
   ]
  },
  {
   "attachments": {},
   "cell_type": "markdown",
   "metadata": {},
   "source": [
    "Creating a linear regression model"
   ]
  },
  {
   "cell_type": "code",
   "execution_count": 54,
   "metadata": {},
   "outputs": [],
   "source": [
    "y = data_outliers['price']\n",
    "X_baseline = data_outliers[['sqft_living']]\n",
    "baseline_model_outliers = sm.OLS(y, sm.add_constant(X_baseline))\n",
    "baseline_results_outliers = baseline_model_outliers.fit()"
   ]
  },
  {
   "cell_type": "code",
   "execution_count": 55,
   "metadata": {},
   "outputs": [
    {
     "data": {
      "text/plain": [
       "462016.1954674735"
      ]
     },
     "execution_count": 55,
     "metadata": {},
     "output_type": "execute_result"
    }
   ],
   "source": [
    "baseline_model_outliers_mae = mean_absolute_error(y, baseline_results_outliers.predict(sm.add_constant(X_baseline)))\n",
    "baseline_model_outliers_mae"
   ]
  },
  {
   "cell_type": "code",
   "execution_count": 56,
   "metadata": {},
   "outputs": [
    {
     "data": {
      "text/plain": [
       "679.7177322002667"
      ]
     },
     "execution_count": 56,
     "metadata": {},
     "output_type": "execute_result"
    }
   ],
   "source": [
    "rmse = np.sqrt(baseline_model_outliers_mae)\n",
    "rmse"
   ]
  },
  {
   "attachments": {},
   "cell_type": "markdown",
   "metadata": {},
   "source": [
    "Creating a multiple linear regression model using additional variables"
   ]
  },
  {
   "cell_type": "code",
   "execution_count": 57,
   "metadata": {},
   "outputs": [],
   "source": [
    "# set the predictor variables\n",
    "X = data_outliers[['bedrooms','sqft_living', 'sqft_lot', 'sqft_above', 'sqft_living15', 'sqft_lot15']]\n",
    "\n",
    "# add a constant to the predictor variables\n",
    "X = sm.add_constant(X)\n",
    "\n",
    "# set the response variable\n",
    "y = data_outliers['price']\n",
    "\n",
    "# create the model\n",
    "model_outliers = sm.OLS(y, X)\n",
    "model_outliers_results = model_outliers.fit()"
   ]
  },
  {
   "cell_type": "code",
   "execution_count": 58,
   "metadata": {},
   "outputs": [
    {
     "data": {
      "text/plain": [
       "457477.0422931807"
      ]
     },
     "execution_count": 58,
     "metadata": {},
     "output_type": "execute_result"
    }
   ],
   "source": [
    "model_outliers_mae = mean_absolute_error(y, model_outliers_results.predict(sm.add_constant(X)))\n",
    "model_outliers_mae"
   ]
  },
  {
   "cell_type": "code",
   "execution_count": 59,
   "metadata": {},
   "outputs": [
    {
     "data": {
      "text/plain": [
       "676.3704918853133"
      ]
     },
     "execution_count": 59,
     "metadata": {},
     "output_type": "execute_result"
    }
   ],
   "source": [
    "rmse = np.sqrt(model_outliers_mae)\n",
    "rmse"
   ]
  },
  {
   "attachments": {},
   "cell_type": "markdown",
   "metadata": {},
   "source": [
    "Creating a function that predicts house prices using the multiple linear regression formula. The function takes in different variables that influence the price"
   ]
  },
  {
   "cell_type": "code",
   "execution_count": 60,
   "metadata": {},
   "outputs": [],
   "source": [
    "# function that predicts the house prices\n",
    "def predict_house_price(bedrooms,sqft_living, sqft_lot, sqft_above, sqft_living15, sqft_lot15):\n",
    "    # set the coefficients and intercept values\n",
    "    b0 = 8.412e+05\n",
    "    b1 = -8.721e+04\n",
    "    b2 = 371.8604\n",
    "    b3 = -1.3714\n",
    "    b4 = 0.9192\n",
    "    b5 = 48.3490\n",
    "    b6 = -0.8813 \n",
    "    # calculate the predicted house price\n",
    "    house_price = b0 + (b1 * bedrooms) + (b2 * sqft_living) + (b3 * sqft_lot) + (b4 * sqft_above) + (b5 * sqft_living15) + (b6 * sqft_lot15)    \n",
    "    return house_price"
   ]
  },
  {
   "attachments": {},
   "cell_type": "markdown",
   "metadata": {},
   "source": [
    "let's use the `predict_house_function` to predict house price for a house with 4bedrooms, 1000sqft_living, 1100sqft_lot, 1200sqft_above, 1300sqft_living15, and 1400sqft_lot15"
   ]
  },
  {
   "cell_type": "code",
   "execution_count": 61,
   "metadata": {},
   "outputs": [
    {
     "data": {
      "text/plain": [
       "925434.78"
      ]
     },
     "execution_count": 61,
     "metadata": {},
     "output_type": "execute_result"
    }
   ],
   "source": [
    "predict_house_price(4,1000, 1100, 1200, 1300, 1400)"
   ]
  },
  {
   "attachments": {},
   "cell_type": "markdown",
   "metadata": {},
   "source": [
    "We create a function that gives suggestions of the houses in our dataset, based on budget price range. "
   ]
  },
  {
   "cell_type": "code",
   "execution_count": 62,
   "metadata": {},
   "outputs": [],
   "source": [
    "def suggest_houses(price_range):\n",
    "\n",
    "    # Filter by price range\n",
    "    data_filtered = data[(data['price'] >= price_range[0]) & (data['price'] <= price_range[1])]\n",
    "\n",
    "    # Sort by price ascending\n",
    "    data_sorted = data_filtered.sort_values(by='price')\n",
    "\n",
    "    # Select top 5 suggestions\n",
    "    data_suggestions = data_sorted.head(5)\n",
    "\n",
    "    # Return the specifications of the suggested houses\n",
    "    return data_suggestions[['bedrooms', 'sqft_living', 'floors', 'zipcode']]\n"
   ]
  },
  {
   "cell_type": "code",
   "execution_count": 63,
   "metadata": {},
   "outputs": [
    {
     "data": {
      "text/html": [
       "<div>\n",
       "<style scoped>\n",
       "    .dataframe tbody tr th:only-of-type {\n",
       "        vertical-align: middle;\n",
       "    }\n",
       "\n",
       "    .dataframe tbody tr th {\n",
       "        vertical-align: top;\n",
       "    }\n",
       "\n",
       "    .dataframe thead th {\n",
       "        text-align: right;\n",
       "    }\n",
       "</style>\n",
       "<table border=\"1\" class=\"dataframe\">\n",
       "  <thead>\n",
       "    <tr style=\"text-align: right;\">\n",
       "      <th></th>\n",
       "      <th>bedrooms</th>\n",
       "      <th>sqft_living</th>\n",
       "      <th>floors</th>\n",
       "      <th>zipcode</th>\n",
       "    </tr>\n",
       "  </thead>\n",
       "  <tbody>\n",
       "    <tr>\n",
       "      <th>465</th>\n",
       "      <td>1</td>\n",
       "      <td>430</td>\n",
       "      <td>1.0</td>\n",
       "      <td>98014</td>\n",
       "    </tr>\n",
       "    <tr>\n",
       "      <th>16184</th>\n",
       "      <td>2</td>\n",
       "      <td>730</td>\n",
       "      <td>1.0</td>\n",
       "      <td>98168</td>\n",
       "    </tr>\n",
       "    <tr>\n",
       "      <th>8267</th>\n",
       "      <td>3</td>\n",
       "      <td>860</td>\n",
       "      <td>1.0</td>\n",
       "      <td>98146</td>\n",
       "    </tr>\n",
       "    <tr>\n",
       "      <th>2139</th>\n",
       "      <td>2</td>\n",
       "      <td>520</td>\n",
       "      <td>1.0</td>\n",
       "      <td>98168</td>\n",
       "    </tr>\n",
       "    <tr>\n",
       "      <th>18453</th>\n",
       "      <td>2</td>\n",
       "      <td>900</td>\n",
       "      <td>1.0</td>\n",
       "      <td>98168</td>\n",
       "    </tr>\n",
       "  </tbody>\n",
       "</table>\n",
       "</div>"
      ],
      "text/plain": [
       "       bedrooms  sqft_living  floors  zipcode\n",
       "465           1          430     1.0    98014\n",
       "16184         2          730     1.0    98168\n",
       "8267          3          860     1.0    98146\n",
       "2139          2          520     1.0    98168\n",
       "18453         2          900     1.0    98168"
      ]
     },
     "execution_count": 63,
     "metadata": {},
     "output_type": "execute_result"
    }
   ],
   "source": [
    "suggest_houses((78000, 100000))"
   ]
  },
  {
   "attachments": {},
   "cell_type": "markdown",
   "metadata": {},
   "source": [
    "### Conclusion\n",
    "1. Some of the features that influence the pricing of houses include:\n",
    "    * Square footage of living space in the home: an additional square footage increases the price by $199.09\n",
    "    * Waterfront: the presence of a waterfront has an associated increase in price of $70,000 \n",
    "    * Condition of the house: houses in good conditions have an associated increase in price of $35,650 compared to houses with average condition.\n",
    "    \n",
    "2.  \n",
    "    * For every additional year in the age of a house, there is an associated decrease in price of $626.09\n",
    "\n",
    "3.  \n",
    "    * Some of the overvalued properties were found to be older than 50 years of age\n",
    "    * The square footage of interior housing living space for the nearest 15 neighbors influences the pricing of houses, in that, an additional square footage leads to an increse in price by $48.35"
   ]
  },
  {
   "attachments": {},
   "cell_type": "markdown",
   "metadata": {},
   "source": [
    "### Recommendations\n",
    "We recommend that:\n",
    "1. There is a need to do further exploration into other features in order to better understand the determinants of house prices.\n",
    "\n",
    "2. The agency should consider re-purposing the old houses and targeting business owners rather than homeowners, this may also be achieved by market research.\n",
    "\n",
    "3. The agency should consider investing in properties that can increase their profitability, such as properties that have a waterfront.\n"
   ]
  },
  {
   "attachments": {},
   "cell_type": "markdown",
   "metadata": {},
   "source": [
    "### Next Steps\n",
    "1. New features can be generated from the existing data to provide more insights into the housing market. For example: In-depth information about regions\n",
    "\n",
    "2. Visualise the properties on a map. This would enable our stakeholders to see the affordability of properties per region. Additionally, this would help to also determine the best regions to invest in.\n",
    "\n",
    "3. Revise the models so that it reflects the current market trends so that this will allow for better accuracy in predicting the prices."
   ]
  }
 ],
 "metadata": {
  "kernelspec": {
   "display_name": "learn-env",
   "language": "python",
   "name": "python3"
  },
  "language_info": {
   "codemirror_mode": {
    "name": "ipython",
    "version": 3
   },
   "file_extension": ".py",
   "mimetype": "text/x-python",
   "name": "python",
   "nbconvert_exporter": "python",
   "pygments_lexer": "ipython3",
   "version": "3.8.5"
  },
  "orig_nbformat": 4
 },
 "nbformat": 4,
 "nbformat_minor": 2
}
